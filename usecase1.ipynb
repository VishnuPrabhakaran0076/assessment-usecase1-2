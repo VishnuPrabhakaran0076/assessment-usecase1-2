{
 "cells": [
  {
   "cell_type": "code",
   "execution_count": 1,
   "metadata": {},
   "outputs": [
    {
     "name": "stdout",
     "output_type": "stream",
     "text": [
      "Missing values per column:\n",
      " Date                 0\n",
      "Store ID             0\n",
      "Product ID           0\n",
      "Units Sold          20\n",
      "Sales Amount        20\n",
      "Discount Applied    20\n",
      "Customer Segment    20\n",
      "dtype: int64\n"
     ]
    },
    {
     "name": "stderr",
     "output_type": "stream",
     "text": [
      "C:\\Users\\vishn\\AppData\\Local\\Temp\\ipykernel_26656\\3402216911.py:16: FutureWarning: A value is trying to be set on a copy of a DataFrame or Series through chained assignment using an inplace method.\n",
      "The behavior will change in pandas 3.0. This inplace method will never work because the intermediate object on which we are setting values always behaves as a copy.\n",
      "\n",
      "For example, when doing 'df[col].method(value, inplace=True)', try using 'df.method({col: value}, inplace=True)' or df[col] = df[col].method(value) instead, to perform the operation inplace on the original object.\n",
      "\n",
      "\n",
      "  data['Units Sold'].fillna(data['Units Sold'].mean(), inplace=True)\n",
      "C:\\Users\\vishn\\AppData\\Local\\Temp\\ipykernel_26656\\3402216911.py:17: FutureWarning: A value is trying to be set on a copy of a DataFrame or Series through chained assignment using an inplace method.\n",
      "The behavior will change in pandas 3.0. This inplace method will never work because the intermediate object on which we are setting values always behaves as a copy.\n",
      "\n",
      "For example, when doing 'df[col].method(value, inplace=True)', try using 'df.method({col: value}, inplace=True)' or df[col] = df[col].method(value) instead, to perform the operation inplace on the original object.\n",
      "\n",
      "\n",
      "  data['Sales Amount'].fillna(data['Sales Amount'].mean(), inplace=True)\n",
      "C:\\Users\\vishn\\AppData\\Local\\Temp\\ipykernel_26656\\3402216911.py:18: FutureWarning: A value is trying to be set on a copy of a DataFrame or Series through chained assignment using an inplace method.\n",
      "The behavior will change in pandas 3.0. This inplace method will never work because the intermediate object on which we are setting values always behaves as a copy.\n",
      "\n",
      "For example, when doing 'df[col].method(value, inplace=True)', try using 'df.method({col: value}, inplace=True)' or df[col] = df[col].method(value) instead, to perform the operation inplace on the original object.\n",
      "\n",
      "\n",
      "  data['Discount Applied'].fillna(data['Discount Applied'].mean(), inplace=True)\n",
      "C:\\Users\\vishn\\AppData\\Local\\Temp\\ipykernel_26656\\3402216911.py:21: FutureWarning: A value is trying to be set on a copy of a DataFrame or Series through chained assignment using an inplace method.\n",
      "The behavior will change in pandas 3.0. This inplace method will never work because the intermediate object on which we are setting values always behaves as a copy.\n",
      "\n",
      "For example, when doing 'df[col].method(value, inplace=True)', try using 'df.method({col: value}, inplace=True)' or df[col] = df[col].method(value) instead, to perform the operation inplace on the original object.\n",
      "\n",
      "\n",
      "  data['Customer Segment'].fillna(data['Customer Segment'].mode()[0], inplace=True)\n"
     ]
    }
   ],
   "source": [
    "import pandas as pd\n",
    "import numpy as np\n",
    "import matplotlib.pyplot as plt\n",
    "import seaborn as sns\n",
    "\n",
    "# Load the updated dataset with missing values\n",
    "data = pd.read_csv('D:\\\\downloads\\\\sales_data_with_missing_values.csv')\n",
    "\n",
    "# Convert Date column to datetime format\n",
    "data['Date'] = pd.to_datetime(data['Date'], errors='coerce')\n",
    "\n",
    "# Check for missing values\n",
    "print(\"Missing values per column:\\n\", data.isnull().sum())\n",
    "\n",
    "# Fill missing numerical values with column mean (or you could use other methods)\n",
    "data['Units Sold'].fillna(data['Units Sold'].mean(), inplace=True)\n",
    "data['Sales Amount'].fillna(data['Sales Amount'].mean(), inplace=True)\n",
    "data['Discount Applied'].fillna(data['Discount Applied'].mean(), inplace=True)\n",
    "\n",
    "# Fill missing categorical values with mode\n",
    "data['Customer Segment'].fillna(data['Customer Segment'].mode()[0], inplace=True)\n"
   ]
  },
  {
   "cell_type": "code",
   "execution_count": 2,
   "metadata": {},
   "outputs": [
    {
     "name": "stdout",
     "output_type": "stream",
     "text": [
      "Daily Aggregated Data:\n",
      "         Date  Units Sold  Sales Amount\n",
      "0 2024-11-01  493.133333   4836.046444\n",
      "1 2024-11-02  325.000000   3158.530000\n",
      "2 2024-11-03  134.000000   1748.220000\n",
      "3 2024-11-04  432.266667   3050.793222\n",
      "4 2024-11-05  427.133333   4924.850000\n"
     ]
    }
   ],
   "source": [
    "# Daily total sales and units sold\n",
    "daily_data = data.groupby('Date').agg({\n",
    "    'Units Sold': 'sum',\n",
    "    'Sales Amount': 'sum'\n",
    "}).reset_index()\n",
    "\n",
    "print(\"Daily Aggregated Data:\\n\", daily_data.head())\n"
   ]
  },
  {
   "cell_type": "code",
   "execution_count": 3,
   "metadata": {},
   "outputs": [
    {
     "name": "stdout",
     "output_type": "stream",
     "text": [
      "Store Aggregated Data:\n",
      "   Store ID   Units Sold  Sales Amount\n",
      "0     S001  3185.800000  26493.662556\n",
      "1     S002  2741.666667  27030.102889\n",
      "2     S003  2402.666667  24579.309333\n",
      "3     S004  2496.533333  17719.569667\n",
      "Product Aggregated Data:\n",
      "   Product ID   Units Sold  Sales Amount\n",
      "0       P001  2414.666667  22205.636444\n",
      "1       P002  2915.933333  24288.776111\n",
      "2       P003  2603.666667  25093.155778\n",
      "3       P004  2892.400000  24235.076111\n"
     ]
    }
   ],
   "source": [
    "# Aggregate by Store\n",
    "store_data = data.groupby('Store ID').agg({\n",
    "    'Units Sold': 'sum',\n",
    "    'Sales Amount': 'sum'\n",
    "}).reset_index()\n",
    "\n",
    "# Aggregate by Product\n",
    "product_data = data.groupby('Product ID').agg({\n",
    "    'Units Sold': 'sum',\n",
    "    'Sales Amount': 'sum'\n",
    "}).reset_index()\n",
    "\n",
    "print(\"Store Aggregated Data:\\n\", store_data.head())\n",
    "print(\"Product Aggregated Data:\\n\", product_data.head())\n"
   ]
  },
  {
   "cell_type": "code",
   "execution_count": 4,
   "metadata": {},
   "outputs": [
    {
     "name": "stdout",
     "output_type": "stream",
     "text": [
      "Sales per Product:\n",
      "   Product ID   Total Sales  Average Sales\n",
      "0       P001  22205.636444     462.617426\n",
      "1       P002  24288.776111     467.091848\n",
      "2       P003  25093.155778     482.560688\n",
      "3       P004  24235.076111     504.897419\n"
     ]
    }
   ],
   "source": [
    "# Total and Average sales per Product\n",
    "product_sales = data.groupby('Product ID').agg({\n",
    "    'Sales Amount': ['sum', 'mean']\n",
    "})\n",
    "product_sales.columns = ['Total Sales', 'Average Sales']\n",
    "product_sales = product_sales.reset_index()\n",
    "print(\"Sales per Product:\\n\", product_sales)\n"
   ]
  },
  {
   "cell_type": "code",
   "execution_count": 5,
   "metadata": {},
   "outputs": [
    {
     "name": "stdout",
     "output_type": "stream",
     "text": [
      "Top-performing store:\n",
      " Store ID                S002\n",
      "Units Sold       2741.666667\n",
      "Sales Amount    27030.102889\n",
      "Name: 1, dtype: object\n"
     ]
    }
   ],
   "source": [
    "# Store with the highest total sales\n",
    "top_store = store_data.loc[store_data['Sales Amount'].idxmax()]\n",
    "print(\"Top-performing store:\\n\", top_store)\n"
   ]
  },
  {
   "cell_type": "code",
   "execution_count": 6,
   "metadata": {},
   "outputs": [
    {
     "name": "stdout",
     "output_type": "stream",
     "text": [
      "Correlation between Discount Applied and Sales Amount: 0.008503779028020441\n"
     ]
    }
   ],
   "source": [
    "# Correlation between Discount Applied and Sales Amount\n",
    "discount_correlation = data['Discount Applied'].corr(data['Sales Amount'])\n",
    "print(\"Correlation between Discount Applied and Sales Amount:\", discount_correlation)\n"
   ]
  },
  {
   "cell_type": "code",
   "execution_count": 7,
   "metadata": {},
   "outputs": [
    {
     "data": {
      "image/png": "[encoded data removed]",
      "text/plain": [
       "<Figure size 1000x600 with 1 Axes>"
      ]
     },
     "metadata": {},
     "output_type": "display_data"
    }
   ],
   "source": [
    "# Plot daily sales trend\n",
    "plt.figure(figsize=(10, 6))\n",
    "plt.plot(daily_data['Date'], daily_data['Sales Amount'], marker='o', color='b')\n",
    "plt.title(\"Daily Sales Trend\")\n",
    "plt.xlabel(\"Date\")\n",
    "plt.ylabel(\"Sales Amount\")\n",
    "plt.xticks(rotation=45)\n",
    "plt.tight_layout()\n",
    "plt.show()\n"
   ]
  },
  {
   "cell_type": "code",
   "execution_count": 8,
   "metadata": {},
   "outputs": [
    {
     "name": "stderr",
     "output_type": "stream",
     "text": [
      "C:\\Users\\vishn\\AppData\\Local\\Temp\\ipykernel_26656\\2908057283.py:3: FutureWarning: \n",
      "\n",
      "Passing `palette` without assigning `hue` is deprecated and will be removed in v0.14.0. Assign the `x` variable to `hue` and set `legend=False` for the same effect.\n",
      "\n",
      "  sns.barplot(x='Store ID', y='Sales Amount', data=store_data, palette='viridis')\n"
     ]
    },
    {
     "data": {
      "image/png": "[encoded data removed]",
      "text/plain": [
       "<Figure size 1000x600 with 1 Axes>"
      ]
     },
     "metadata": {},
     "output_type": "display_data"
    }
   ],
   "source": [
    "# Bar plot of total sales by store\n",
    "plt.figure(figsize=(10, 6))\n",
    "sns.barplot(x='Store ID', y='Sales Amount', data=store_data, palette='viridis')\n",
    "plt.title(\"Total Sales by Store\")\n",
    "plt.xlabel(\"Store ID\")\n",
    "plt.ylabel(\"Total Sales Amount\")\n",
    "plt.xticks(rotation=45)\n",
    "plt.tight_layout()\n",
    "plt.show()\n"
   ]
  },
  {
   "cell_type": "code",
   "execution_count": 9,
   "metadata": {},
   "outputs": [
    {
     "name": "stderr",
     "output_type": "stream",
     "text": [
      "C:\\Users\\vishn\\AppData\\Local\\Temp\\ipykernel_26656\\982053825.py:3: FutureWarning: \n",
      "\n",
      "Passing `palette` without assigning `hue` is deprecated and will be removed in v0.14.0. Assign the `x` variable to `hue` and set `legend=False` for the same effect.\n",
      "\n",
      "  sns.barplot(x='Product ID', y='Sales Amount', data=product_data, palette='coolwarm')\n"
     ]
    },
    {
     "data": {
      "image/png": "[encoded data removed]",
      "text/plain": [
       "<Figure size 1000x600 with 1 Axes>"
      ]
     },
     "metadata": {},
     "output_type": "display_data"
    }
   ],
   "source": [
    "# Bar plot of total sales by product\n",
    "plt.figure(figsize=(10, 6))\n",
    "sns.barplot(x='Product ID', y='Sales Amount', data=product_data, palette='coolwarm')\n",
    "plt.title(\"Total Sales by Product\")\n",
    "plt.xlabel(\"Product ID\")\n",
    "plt.ylabel(\"Total Sales Amount\")\n",
    "plt.xticks(rotation=45)\n",
    "plt.tight_layout()\n",
    "plt.show()\n"
   ]
  },
  {
   "cell_type": "code",
   "execution_count": 10,
   "metadata": {},
   "outputs": [
    {
     "data": {
      "image/png": "[encoded data removed]",
      "text/plain": [
       "<Figure size 1200x600 with 1 Axes>"
      ]
     },
     "metadata": {},
     "output_type": "display_data"
    }
   ],
   "source": [
    "import matplotlib.dates as mdates\n",
    "\n",
    "# Plot daily sales trend with Units Sold and Sales Amount\n",
    "plt.figure(figsize=(12, 6))\n",
    "plt.plot(daily_data['Date'], daily_data['Sales Amount'], label=\"Sales Amount ($)\", color='b', marker='o', linewidth=2)\n",
    "plt.plot(daily_data['Date'], daily_data['Units Sold'], label=\"Units Sold\", color='g', linestyle='--', linewidth=2)\n",
    "\n",
    "# Enhancing plot with titles and grid\n",
    "plt.title(\"Daily Sales Trend: Units Sold vs. Sales Amount\", fontsize=16)\n",
    "plt.xlabel(\"Date\", fontsize=12)\n",
    "plt.ylabel(\"Values\", fontsize=12)\n",
    "plt.legend()\n",
    "plt.grid(True, linestyle='--', alpha=0.7)\n",
    "\n",
    "# Format x-axis for better date readability\n",
    "plt.gca().xaxis.set_major_locator(mdates.WeekdayLocator(interval=1))\n",
    "plt.gca().xaxis.set_major_formatter(mdates.DateFormatter(\"%Y-%m-%d\"))\n",
    "plt.xticks(rotation=45)\n",
    "plt.tight_layout()\n",
    "plt.show()\n",
    "\n"
   ]
  },
  {
   "cell_type": "code",
   "execution_count": 11,
   "metadata": {},
   "outputs": [
    {
     "name": "stderr",
     "output_type": "stream",
     "text": [
      "C:\\Users\\vishn\\AppData\\Local\\Temp\\ipykernel_26656\\3595631706.py:4: FutureWarning: \n",
      "\n",
      "Passing `palette` without assigning `hue` is deprecated and will be removed in v0.14.0. Assign the `x` variable to `hue` and set `legend=False` for the same effect.\n",
      "\n",
      "  sns.barplot(x='Store ID', y='Sales Amount', data=sorted_store_data, palette='viridis')\n"
     ]
    },
    {
     "data": {
      "image/png": "[encoded data removed]",
      "text/plain": [
       "<Figure size 1000x600 with 1 Axes>"
      ]
     },
     "metadata": {},
     "output_type": "display_data"
    }
   ],
   "source": [
    "# Bar plot of total sales by store with labels\n",
    "plt.figure(figsize=(10, 6))\n",
    "sorted_store_data = store_data.sort_values(by='Sales Amount', ascending=False)\n",
    "sns.barplot(x='Store ID', y='Sales Amount', data=sorted_store_data, palette='viridis')\n",
    "\n",
    "# Adding data labels\n",
    "for index, value in enumerate(sorted_store_data['Sales Amount']):\n",
    "    plt.text(index, value + 500, f\"${value:,.0f}\", ha='center', va='bottom')\n",
    "\n",
    "plt.title(\"Total Sales by Store\", fontsize=16)\n",
    "plt.xlabel(\"Store ID\", fontsize=12)\n",
    "plt.ylabel(\"Total Sales Amount ($)\", fontsize=12)\n",
    "plt.xticks(rotation=45)\n",
    "plt.grid(axis='y', linestyle='--', alpha=0.7)\n",
    "plt.tight_layout()\n",
    "plt.show()\n"
   ]
  },
  {
   "cell_type": "code",
   "execution_count": 12,
   "metadata": {},
   "outputs": [
    {
     "name": "stderr",
     "output_type": "stream",
     "text": [
      "C:\\Users\\vishn\\AppData\\Local\\Temp\\ipykernel_26656\\1615468365.py:4: FutureWarning: \n",
      "\n",
      "Passing `palette` without assigning `hue` is deprecated and will be removed in v0.14.0. Assign the `y` variable to `hue` and set `legend=False` for the same effect.\n",
      "\n",
      "  sns.barplot(x='Sales Amount', y='Product ID', data=sorted_product_data, palette='coolwarm', label=\"Sales Amount\")\n"
     ]
    },
    {
     "data": {
      "image/png": "[encoded data removed]",
      "text/plain": [
       "<Figure size 1000x800 with 2 Axes>"
      ]
     },
     "metadata": {},
     "output_type": "display_data"
    }
   ],
   "source": [
    "# Horizontal bar plot of total sales by product with units sold\n",
    "plt.figure(figsize=(10, 8))\n",
    "sorted_product_data = product_data.sort_values(by='Sales Amount', ascending=True)\n",
    "sns.barplot(x='Sales Amount', y='Product ID', data=sorted_product_data, palette='coolwarm', label=\"Sales Amount\")\n",
    "\n",
    "# Add a secondary bar for Units Sold to the right\n",
    "plt.twinx()\n",
    "sns.barplot(x='Units Sold', y='Product ID', data=sorted_product_data, color=\"gray\", alpha=0.3, label=\"Units Sold\")\n",
    "\n",
    "# Titles and labels\n",
    "plt.title(\"Total Sales and Units Sold by Product\", fontsize=16)\n",
    "plt.xlabel(\"Sales Amount ($)\", fontsize=12)\n",
    "plt.ylabel(\"Product ID\", fontsize=12)\n",
    "plt.legend(loc=\"upper right\")\n",
    "plt.grid(axis='x', linestyle='--', alpha=0.7)\n",
    "plt.tight_layout()\n",
    "plt.show()\n"
   ]
  },
  {
   "cell_type": "code",
   "execution_count": 13,
   "metadata": {},
   "outputs": [
    {
     "data": {
      "image/png": "[encoded data removed]",
      "text/plain": [
       "<Figure size 1000x600 with 1 Axes>"
      ]
     },
     "metadata": {},
     "output_type": "display_data"
    }
   ],
   "source": [
    "# Scatter plot with regression line for discount impact\n",
    "plt.figure(figsize=(10, 6))\n",
    "sns.regplot(x='Discount Applied', y='Sales Amount', data=data, scatter_kws={'alpha':0.6}, line_kws={'color':'red'})\n",
    "\n",
    "# Titles and grid\n",
    "plt.title(\"Impact of Discount on Sales Amount\", fontsize=16)\n",
    "plt.xlabel(\"Discount Applied (%)\", fontsize=12)\n",
    "plt.ylabel(\"Sales Amount ($)\", fontsize=12)\n",
    "plt.grid(True, linestyle='--', alpha=0.7)\n",
    "plt.tight_layout()\n",
    "plt.show()\n"
   ]
  },
  {
   "cell_type": "code",
   "execution_count": 14,
   "metadata": {},
   "outputs": [],
   "source": [
    "import plotly.express as px\n",
    "import plotly.graph_objects as go"
   ]
  },
  {
   "cell_type": "code",
   "execution_count": 15,
   "metadata": {},
   "outputs": [],
   "source": [
    "data['Date'] = pd.to_datetime(data['Date'], errors='coerce')"
   ]
  },
  {
   "cell_type": "code",
   "execution_count": 18,
   "metadata": {},
   "outputs": [
    {
     "data": {
      "application/vnd.plotly.v1+json": {
       "config": {
        "plotlyServerURL": "https://plot.ly"
       },
       "data": [
        {
         "mode": "lines+markers",
         "name": "Sales Amount",
         "type": "scatter",
         "x": [
          "2024-11-01T00:00:00",
          "2024-11-02T00:00:00",
          "2024-11-03T00:00:00",
          "2024-11-04T00:00:00",
          "2024-11-05T00:00:00",
          "2024-11-06T00:00:00",
          "2024-11-07T00:00:00",
          "2024-11-08T00:00:00",
          "2024-11-09T00:00:00",
          "2024-11-10T00:00:00",
          "2024-11-11T00:00:00",
          "2024-11-12T00:00:00",
          "2024-11-13T00:00:00",
          "2024-11-14T00:00:00",
          "2024-11-15T00:00:00",
          "2024-11-16T00:00:00",
          "2024-11-17T00:00:00",
          "2024-11-18T00:00:00",
          "2024-11-19T00:00:00",
          "2024-11-20T00:00:00",
          "2024-11-21T00:00:00",
          "2024-11-22T00:00:00",
          "2024-11-23T00:00:00",
          "2024-11-24T00:00:00",
          "2024-11-25T00:00:00",
          "2024-11-26T00:00:00",
          "2024-11-27T00:00:00",
          "2024-11-28T00:00:00",
          "2024-11-29T00:00:00",
          "2024-11-30T00:00:00"
         ],
         "y": [
          4836.046444444444,
          3158.53,
          1748.22,
          3050.793222222222,
          4924.85,
          1971.3832222222222,
          4184.343222222222,
          1711.2700000000002,
          3310.2232222222224,
          2457.9199999999996,
          3167.69,
          3380.13,
          3030.683222222222,
          3837.6564444444443,
          4368.72,
          3747.15,
          1778.35,
          4237.5832222222225,
          3906.143222222222,
          1615.7932222222223,
          4380.063222222222,
          3396.8732222222225,
          676.48,
          3261.16,
          3685.1464444444446,
          4502.433222222222,
          2248.5132222222223,
          3993.6564444444443,
          4083.63,
          1171.21
         ]
        },
        {
         "mode": "lines+markers",
         "name": "Units Sold",
         "type": "scatter",
         "x": [
          "2024-11-01T00:00:00",
          "2024-11-02T00:00:00",
          "2024-11-03T00:00:00",
          "2024-11-04T00:00:00",
          "2024-11-05T00:00:00",
          "2024-11-06T00:00:00",
          "2024-11-07T00:00:00",
          "2024-11-08T00:00:00",
          "2024-11-09T00:00:00",
          "2024-11-10T00:00:00",
          "2024-11-11T00:00:00",
          "2024-11-12T00:00:00",
          "2024-11-13T00:00:00",
          "2024-11-14T00:00:00",
          "2024-11-15T00:00:00",
          "2024-11-16T00:00:00",
          "2024-11-17T00:00:00",
          "2024-11-18T00:00:00",
          "2024-11-19T00:00:00",
          "2024-11-20T00:00:00",
          "2024-11-21T00:00:00",
          "2024-11-22T00:00:00",
          "2024-11-23T00:00:00",
          "2024-11-24T00:00:00",
          "2024-11-25T00:00:00",
          "2024-11-26T00:00:00",
          "2024-11-27T00:00:00",
          "2024-11-28T00:00:00",
          "2024-11-29T00:00:00",
          "2024-11-30T00:00:00"
         ],
         "y": [
          493.1333333333333,
          325,
          134,
          432.26666666666665,
          427.1333333333333,
          275,
          385.26666666666665,
          216,
          187.26666666666665,
          474,
          411.1333333333333,
          435.4,
          429,
          246.26666666666665,
          507,
          423,
          208,
          446.26666666666665,
          339.1333333333333,
          241,
          560,
          714.1333333333333,
          169,
          250.13333333333333,
          220,
          581,
          219,
          561,
          396.1333333333333,
          121
         ],
         "yaxis": "y2"
        }
       ],
       "layout": {
        "hovermode": "x unified",
        "template": {
         "data": {
          "bar": [
           {
            "error_x": {
             "color": "#2a3f5f"
            },
            "error_y": {
             "color": "#2a3f5f"
            },
            "marker": {
             "line": {
              "color": "#E5ECF6",
              "width": 0.5
             },
             "pattern": {
              "fillmode": "overlay",
              "size": 10,
              "solidity": 0.2
             }
            },
            "type": "bar"
           }
          ],
          "barpolar": [
           {
            "marker": {
             "line": {
              "color": "#E5ECF6",
              "width": 0.5
             },
             "pattern": {
              "fillmode": "overlay",
              "size": 10,
              "solidity": 0.2
             }
            },
            "type": "barpolar"
           }
          ],
          "carpet": [
           {
            "aaxis": {
             "endlinecolor": "#2a3f5f",
             "gridcolor": "white",
             "linecolor": "white",
             "minorgridcolor": "white",
             "startlinecolor": "#2a3f5f"
            },
            "baxis": {
             "endlinecolor": "#2a3f5f",
             "gridcolor": "white",
             "linecolor": "white",
             "minorgridcolor": "white",
             "startlinecolor": "#2a3f5f"
            },
            "type": "carpet"
           }
          ],
          "choropleth": [
           {
            "colorbar": {
             "outlinewidth": 0,
             "ticks": ""
            },
            "type": "choropleth"
           }
          ],
          "contour": [
           {
            "colorbar": {
             "outlinewidth": 0,
             "ticks": ""
            },
            "colorscale": [
             [
              0,
              "#0d0887"
             ],
             [
              0.1111111111111111,
              "#46039f"
             ],
             [
              0.2222222222222222,
              "#7201a8"
             ],
             [
              0.3333333333333333,
              "#9c179e"
             ],
             [
              0.4444444444444444,
              "#bd3786"
             ],
             [
              0.5555555555555556,
              "#d8576b"
             ],
             [
              0.6666666666666666,
              "#ed7953"
             ],
             [
              0.7777777777777778,
              "#fb9f3a"
             ],
             [
              0.8888888888888888,
              "#fdca26"
             ],
             [
              1,
              "#f0f921"
             ]
            ],
            "type": "contour"
           }
          ],
          "contourcarpet": [
           {
            "colorbar": {
             "outlinewidth": 0,
             "ticks": ""
            },
            "type": "contourcarpet"
           }
          ],
          "heatmap": [
           {
            "colorbar": {
             "outlinewidth": 0,
             "ticks": ""
            },
            "colorscale": [
             [
              0,
              "#0d0887"
             ],
             [
              0.1111111111111111,
              "#46039f"
             ],
             [
              0.2222222222222222,
              "#7201a8"
             ],
             [
              0.3333333333333333,
              "#9c179e"
             ],
             [
              0.4444444444444444,
              "#bd3786"
             ],
             [
              0.5555555555555556,
              "#d8576b"
             ],
             [
              0.6666666666666666,
              "#ed7953"
             ],
             [
              0.7777777777777778,
              "#fb9f3a"
             ],
             [
              0.8888888888888888,
              "#fdca26"
             ],
             [
              1,
              "#f0f921"
             ]
            ],
            "type": "heatmap"
           }
          ],
          "heatmapgl": [
           {
            "colorbar": {
             "outlinewidth": 0,
             "ticks": ""
            },
            "colorscale": [
             [
              0,
              "#0d0887"
             ],
             [
              0.1111111111111111,
              "#46039f"
             ],
             [
              0.2222222222222222,
              "#7201a8"
             ],
             [
              0.3333333333333333,
              "#9c179e"
             ],
             [
              0.4444444444444444,
              "#bd3786"
             ],
             [
              0.5555555555555556,
              "#d8576b"
             ],
             [
              0.6666666666666666,
              "#ed7953"
             ],
             [
              0.7777777777777778,
              "#fb9f3a"
             ],
             [
              0.8888888888888888,
              "#fdca26"
             ],
             [
              1,
              "#f0f921"
             ]
            ],
            "type": "heatmapgl"
           }
          ],
          "histogram": [
           {
            "marker": {
             "pattern": {
              "fillmode": "overlay",
              "size": 10,
              "solidity": 0.2
             }
            },
            "type": "histogram"
           }
          ],
          "histogram2d": [
           {
            "colorbar": {
             "outlinewidth": 0,
             "ticks": ""
            },
            "colorscale": [
             [
              0,
              "#0d0887"
             ],
             [
              0.1111111111111111,
              "#46039f"
             ],
             [
              0.2222222222222222,
              "#7201a8"
             ],
             [
              0.3333333333333333,
              "#9c179e"
             ],
             [
              0.4444444444444444,
              "#bd3786"
             ],
             [
              0.5555555555555556,
              "#d8576b"
             ],
             [
              0.6666666666666666,
              "#ed7953"
             ],
             [
              0.7777777777777778,
              "#fb9f3a"
             ],
             [
              0.8888888888888888,
              "#fdca26"
             ],
             [
              1,
              "#f0f921"
             ]
            ],
            "type": "histogram2d"
           }
          ],
          "histogram2dcontour": [
           {
            "colorbar": {
             "outlinewidth": 0,
             "ticks": ""
            },
            "colorscale": [
             [
              0,
              "#0d0887"
             ],
             [
              0.1111111111111111,
              "#46039f"
             ],
             [
              0.2222222222222222,
              "#7201a8"
             ],
             [
              0.3333333333333333,
              "#9c179e"
             ],
             [
              0.4444444444444444,
              "#bd3786"
             ],
             [
              0.5555555555555556,
              "#d8576b"
             ],
             [
              0.6666666666666666,
              "#ed7953"
             ],
             [
              0.7777777777777778,
              "#fb9f3a"
             ],
             [
              0.8888888888888888,
              "#fdca26"
             ],
             [
              1,
              "#f0f921"
             ]
            ],
            "type": "histogram2dcontour"
           }
          ],
          "mesh3d": [
           {
            "colorbar": {
             "outlinewidth": 0,
             "ticks": ""
            },
            "type": "mesh3d"
           }
          ],
          "parcoords": [
           {
            "line": {
             "colorbar": {
              "outlinewidth": 0,
              "ticks": ""
             }
            },
            "type": "parcoords"
           }
          ],
          "pie": [
           {
            "automargin": true,
            "type": "pie"
           }
          ],
          "scatter": [
           {
            "fillpattern": {
             "fillmode": "overlay",
             "size": 10,
             "solidity": 0.2
            },
            "type": "scatter"
           }
          ],
          "scatter3d": [
           {
            "line": {
             "colorbar": {
              "outlinewidth": 0,
              "ticks": ""
             }
            },
            "marker": {
             "colorbar": {
              "outlinewidth": 0,
              "ticks": ""
             }
            },
            "type": "scatter3d"
           }
          ],
          "scattercarpet": [
           {
            "marker": {
             "colorbar": {
              "outlinewidth": 0,
              "ticks": ""
             }
            },
            "type": "scattercarpet"
           }
          ],
          "scattergeo": [
           {
            "marker": {
             "colorbar": {
              "outlinewidth": 0,
              "ticks": ""
             }
            },
            "type": "scattergeo"
           }
          ],
          "scattergl": [
           {
            "marker": {
             "colorbar": {
              "outlinewidth": 0,
              "ticks": ""
             }
            },
            "type": "scattergl"
           }
          ],
          "scattermapbox": [
           {
            "marker": {
             "colorbar": {
              "outlinewidth": 0,
              "ticks": ""
             }
            },
            "type": "scattermapbox"
           }
          ],
          "scatterpolar": [
           {
            "marker": {
             "colorbar": {
              "outlinewidth": 0,
              "ticks": ""
             }
            },
            "type": "scatterpolar"
           }
          ],
          "scatterpolargl": [
           {
            "marker": {
             "colorbar": {
              "outlinewidth": 0,
              "ticks": ""
             }
            },
            "type": "scatterpolargl"
           }
          ],
          "scatterternary": [
           {
            "marker": {
             "colorbar": {
              "outlinewidth": 0,
              "ticks": ""
             }
            },
            "type": "scatterternary"
           }
          ],
          "surface": [
           {
            "colorbar": {
             "outlinewidth": 0,
             "ticks": ""
            },
            "colorscale": [
             [
              0,
              "#0d0887"
             ],
             [
              0.1111111111111111,
              "#46039f"
             ],
             [
              0.2222222222222222,
              "#7201a8"
             ],
             [
              0.3333333333333333,
              "#9c179e"
             ],
             [
              0.4444444444444444,
              "#bd3786"
             ],
             [
              0.5555555555555556,
              "#d8576b"
             ],
             [
              0.6666666666666666,
              "#ed7953"
             ],
             [
              0.7777777777777778,
              "#fb9f3a"
             ],
             [
              0.8888888888888888,
              "#fdca26"
             ],
             [
              1,
              "#f0f921"
             ]
            ],
            "type": "surface"
           }
          ],
          "table": [
           {
            "cells": {
             "fill": {
              "color": "#EBF0F8"
             },
             "line": {
              "color": "white"
             }
            },
            "header": {
             "fill": {
              "color": "#C8D4E3"
             },
             "line": {
              "color": "white"
             }
            },
            "type": "table"
           }
          ]
         },
         "layout": {
          "annotationdefaults": {
           "arrowcolor": "#2a3f5f",
           "arrowhead": 0,
           "arrowwidth": 1
          },
          "autotypenumbers": "strict",
          "coloraxis": {
           "colorbar": {
            "outlinewidth": 0,
            "ticks": ""
           }
          },
          "colorscale": {
           "diverging": [
            [
             0,
             "#8e0152"
            ],
            [
             0.1,
             "#c51b7d"
            ],
            [
             0.2,
             "#de77ae"
            ],
            [
             0.3,
             "#f1b6da"
            ],
            [
             0.4,
             "#fde0ef"
            ],
            [
             0.5,
             "#f7f7f7"
            ],
            [
             0.6,
             "#e6f5d0"
            ],
            [
             0.7,
             "#b8e186"
            ],
            [
             0.8,
             "#7fbc41"
            ],
            [
             0.9,
             "#4d9221"
            ],
            [
             1,
             "#276419"
            ]
           ],
           "sequential": [
            [
             0,
             "#0d0887"
            ],
            [
             0.1111111111111111,
             "#46039f"
            ],
            [
             0.2222222222222222,
             "#7201a8"
            ],
            [
             0.3333333333333333,
             "#9c179e"
            ],
            [
             0.4444444444444444,
             "#bd3786"
            ],
            [
             0.5555555555555556,
             "#d8576b"
            ],
            [
             0.6666666666666666,
             "#ed7953"
            ],
            [
             0.7777777777777778,
             "#fb9f3a"
            ],
            [
             0.8888888888888888,
             "#fdca26"
            ],
            [
             1,
             "#f0f921"
            ]
           ],
           "sequentialminus": [
            [
             0,
             "#0d0887"
            ],
            [
             0.1111111111111111,
             "#46039f"
            ],
            [
             0.2222222222222222,
             "#7201a8"
            ],
            [
             0.3333333333333333,
             "#9c179e"
            ],
            [
             0.4444444444444444,
             "#bd3786"
            ],
            [
             0.5555555555555556,
             "#d8576b"
            ],
            [
             0.6666666666666666,
             "#ed7953"
            ],
            [
             0.7777777777777778,
             "#fb9f3a"
            ],
            [
             0.8888888888888888,
             "#fdca26"
            ],
            [
             1,
             "#f0f921"
            ]
           ]
          },
          "colorway": [
           "#636efa",
           "#EF553B",
           "#00cc96",
           "#ab63fa",
           "#FFA15A",
           "#19d3f3",
           "#FF6692",
           "#B6E880",
           "#FF97FF",
           "#FECB52"
          ],
          "font": {
           "color": "#2a3f5f"
          },
          "geo": {
           "bgcolor": "white",
           "lakecolor": "white",
           "landcolor": "#E5ECF6",
           "showlakes": true,
           "showland": true,
           "subunitcolor": "white"
          },
          "hoverlabel": {
           "align": "left"
          },
          "hovermode": "closest",
          "mapbox": {
           "style": "light"
          },
          "paper_bgcolor": "white",
          "plot_bgcolor": "#E5ECF6",
          "polar": {
           "angularaxis": {
            "gridcolor": "white",
            "linecolor": "white",
            "ticks": ""
           },
           "bgcolor": "#E5ECF6",
           "radialaxis": {
            "gridcolor": "white",
            "linecolor": "white",
            "ticks": ""
           }
          },
          "scene": {
           "xaxis": {
            "backgroundcolor": "#E5ECF6",
            "gridcolor": "white",
            "gridwidth": 2,
            "linecolor": "white",
            "showbackground": true,
            "ticks": "",
            "zerolinecolor": "white"
           },
           "yaxis": {
            "backgroundcolor": "#E5ECF6",
            "gridcolor": "white",
            "gridwidth": 2,
            "linecolor": "white",
            "showbackground": true,
            "ticks": "",
            "zerolinecolor": "white"
           },
           "zaxis": {
            "backgroundcolor": "#E5ECF6",
            "gridcolor": "white",
            "gridwidth": 2,
            "linecolor": "white",
            "showbackground": true,
            "ticks": "",
            "zerolinecolor": "white"
           }
          },
          "shapedefaults": {
           "line": {
            "color": "#2a3f5f"
           }
          },
          "ternary": {
           "aaxis": {
            "gridcolor": "white",
            "linecolor": "white",
            "ticks": ""
           },
           "baxis": {
            "gridcolor": "white",
            "linecolor": "white",
            "ticks": ""
           },
           "bgcolor": "#E5ECF6",
           "caxis": {
            "gridcolor": "white",
            "linecolor": "white",
            "ticks": ""
           }
          },
          "title": {
           "x": 0.05
          },
          "xaxis": {
           "automargin": true,
           "gridcolor": "white",
           "linecolor": "white",
           "ticks": "",
           "title": {
            "standoff": 15
           },
           "zerolinecolor": "white",
           "zerolinewidth": 2
          },
          "yaxis": {
           "automargin": true,
           "gridcolor": "white",
           "linecolor": "white",
           "ticks": "",
           "title": {
            "standoff": 15
           },
           "zerolinecolor": "white",
           "zerolinewidth": 2
          }
         }
        },
        "title": {
         "text": "Daily Sales Trend: Units Sold vs. Sales Amount"
        },
        "xaxis": {
         "title": {
          "text": "Date"
         }
        },
        "yaxis": {
         "title": {
          "text": "Sales Amount ($)"
         }
        },
        "yaxis2": {
         "overlaying": "y",
         "side": "right",
         "title": {
          "text": "Units Sold"
         }
        }
       }
      }
     },
     "metadata": {},
     "output_type": "display_data"
    }
   ],
   "source": [
    "# Aggregate data by date\n",
    "daily_data = data.groupby('Date').agg({\n",
    "    'Units Sold': 'sum',\n",
    "    'Sales Amount': 'sum'\n",
    "}).reset_index()\n",
    "\n",
    "# Plotting sales trend over time\n",
    "fig = go.Figure()\n",
    "fig.add_trace(go.Scatter(x=daily_data['Date'], y=daily_data['Sales Amount'], mode='lines+markers', name='Sales Amount'))\n",
    "fig.add_trace(go.Scatter(x=daily_data['Date'], y=daily_data['Units Sold'], mode='lines+markers', name='Units Sold', yaxis=\"y2\"))\n",
    "\n",
    "# Customizing layout for dual-axis plot\n",
    "fig.update_layout(\n",
    "    title=\"Daily Sales Trend: Units Sold vs. Sales Amount\",\n",
    "    xaxis_title=\"Date\",\n",
    "    yaxis_title=\"Sales Amount ($)\",\n",
    "    yaxis2=dict(title=\"Units Sold\", overlaying=\"y\", side=\"right\"),\n",
    "    hovermode=\"x unified\"\n",
    ")\n",
    "\n",
    "fig.show()\n"
   ]
  },
  {
   "cell_type": "code",
   "execution_count": 17,
   "metadata": {},
   "outputs": [
    {
     "data": {
      "application/vnd.plotly.v1+json": {
       "config": {
        "plotlyServerURL": "https://plot.ly"
       },
       "data": [
        {
         "alignmentgroup": "True",
         "customdata": [
          [
           3185.8
          ]
         ],
         "hovertemplate": "Store ID=%{x}<br>Total Sales ($)=%{y}<br>Units Sold=%{customdata[0]}<extra></extra>",
         "legendgroup": "S001",
         "marker": {
          "color": "#636efa",
          "pattern": {
           "shape": ""
          }
         },
         "name": "S001",
         "offsetgroup": "S001",
         "orientation": "v",
         "showlegend": true,
         "textposition": "auto",
         "type": "bar",
         "x": [
          "S001"
         ],
         "xaxis": "x",
         "y": [
          26493.662555555555
         ],
         "yaxis": "y"
        },
        {
         "alignmentgroup": "True",
         "customdata": [
          [
           2741.6666666666665
          ]
         ],
         "hovertemplate": "Store ID=%{x}<br>Total Sales ($)=%{y}<br>Units Sold=%{customdata[0]}<extra></extra>",
         "legendgroup": "S002",
         "marker": {
          "color": "#EF553B",
          "pattern": {
           "shape": ""
          }
         },
         "name": "S002",
         "offsetgroup": "S002",
         "orientation": "v",
         "showlegend": true,
         "textposition": "auto",
         "type": "bar",
         "x": [
          "S002"
         ],
         "xaxis": "x",
         "y": [
          27030.102888888887
         ],
         "yaxis": "y"
        },
        {
         "alignmentgroup": "True",
         "customdata": [
          [
           2402.6666666666665
          ]
         ],
         "hovertemplate": "Store ID=%{x}<br>Total Sales ($)=%{y}<br>Units Sold=%{customdata[0]}<extra></extra>",
         "legendgroup": "S003",
         "marker": {
          "color": "#00cc96",
          "pattern": {
           "shape": ""
          }
         },
         "name": "S003",
         "offsetgroup": "S003",
         "orientation": "v",
         "showlegend": true,
         "textposition": "auto",
         "type": "bar",
         "x": [
          "S003"
         ],
         "xaxis": "x",
         "y": [
          24579.309333333335
         ],
         "yaxis": "y"
        },
        {
         "alignmentgroup": "True",
         "customdata": [
          [
           2496.5333333333333
          ]
         ],
         "hovertemplate": "Store ID=%{x}<br>Total Sales ($)=%{y}<br>Units Sold=%{customdata[0]}<extra></extra>",
         "legendgroup": "S004",
         "marker": {
          "color": "#ab63fa",
          "pattern": {
           "shape": ""
          }
         },
         "name": "S004",
         "offsetgroup": "S004",
         "orientation": "v",
         "showlegend": true,
         "textposition": "auto",
         "type": "bar",
         "x": [
          "S004"
         ],
         "xaxis": "x",
         "y": [
          17719.569666666666
         ],
         "yaxis": "y"
        }
       ],
       "layout": {
        "barmode": "relative",
        "legend": {
         "title": {
          "text": "Store ID"
         },
         "tracegroupgap": 0
        },
        "template": {
         "data": {
          "bar": [
           {
            "error_x": {
             "color": "#2a3f5f"
            },
            "error_y": {
             "color": "#2a3f5f"
            },
            "marker": {
             "line": {
              "color": "#E5ECF6",
              "width": 0.5
             },
             "pattern": {
              "fillmode": "overlay",
              "size": 10,
              "solidity": 0.2
             }
            },
            "type": "bar"
           }
          ],
          "barpolar": [
           {
            "marker": {
             "line": {
              "color": "#E5ECF6",
              "width": 0.5
             },
             "pattern": {
              "fillmode": "overlay",
              "size": 10,
              "solidity": 0.2
             }
            },
            "type": "barpolar"
           }
          ],
          "carpet": [
           {
            "aaxis": {
             "endlinecolor": "#2a3f5f",
             "gridcolor": "white",
             "linecolor": "white",
             "minorgridcolor": "white",
             "startlinecolor": "#2a3f5f"
            },
            "baxis": {
             "endlinecolor": "#2a3f5f",
             "gridcolor": "white",
             "linecolor": "white",
             "minorgridcolor": "white",
             "startlinecolor": "#2a3f5f"
            },
            "type": "carpet"
           }
          ],
          "choropleth": [
           {
            "colorbar": {
             "outlinewidth": 0,
             "ticks": ""
            },
            "type": "choropleth"
           }
          ],
          "contour": [
           {
            "colorbar": {
             "outlinewidth": 0,
             "ticks": ""
            },
            "colorscale": [
             [
              0,
              "#0d0887"
             ],
             [
              0.1111111111111111,
              "#46039f"
             ],
             [
              0.2222222222222222,
              "#7201a8"
             ],
             [
              0.3333333333333333,
              "#9c179e"
             ],
             [
              0.4444444444444444,
              "#bd3786"
             ],
             [
              0.5555555555555556,
              "#d8576b"
             ],
             [
              0.6666666666666666,
              "#ed7953"
             ],
             [
              0.7777777777777778,
              "#fb9f3a"
             ],
             [
              0.8888888888888888,
              "#fdca26"
             ],
             [
              1,
              "#f0f921"
             ]
            ],
            "type": "contour"
           }
          ],
          "contourcarpet": [
           {
            "colorbar": {
             "outlinewidth": 0,
             "ticks": ""
            },
            "type": "contourcarpet"
           }
          ],
          "heatmap": [
           {
            "colorbar": {
             "outlinewidth": 0,
             "ticks": ""
            },
            "colorscale": [
             [
              0,
              "#0d0887"
             ],
             [
              0.1111111111111111,
              "#46039f"
             ],
             [
              0.2222222222222222,
              "#7201a8"
             ],
             [
              0.3333333333333333,
              "#9c179e"
             ],
             [
              0.4444444444444444,
              "#bd3786"
             ],
             [
              0.5555555555555556,
              "#d8576b"
             ],
             [
              0.6666666666666666,
              "#ed7953"
             ],
             [
              0.7777777777777778,
              "#fb9f3a"
             ],
             [
              0.8888888888888888,
              "#fdca26"
             ],
             [
              1,
              "#f0f921"
             ]
            ],
            "type": "heatmap"
           }
          ],
          "heatmapgl": [
           {
            "colorbar": {
             "outlinewidth": 0,
             "ticks": ""
            },
            "colorscale": [
             [
              0,
              "#0d0887"
             ],
             [
              0.1111111111111111,
              "#46039f"
             ],
             [
              0.2222222222222222,
              "#7201a8"
             ],
             [
              0.3333333333333333,
              "#9c179e"
             ],
             [
              0.4444444444444444,
              "#bd3786"
             ],
             [
              0.5555555555555556,
              "#d8576b"
             ],
             [
              0.6666666666666666,
              "#ed7953"
             ],
             [
              0.7777777777777778,
              "#fb9f3a"
             ],
             [
              0.8888888888888888,
              "#fdca26"
             ],
             [
              1,
              "#f0f921"
             ]
            ],
            "type": "heatmapgl"
           }
          ],
          "histogram": [
           {
            "marker": {
             "pattern": {
              "fillmode": "overlay",
              "size": 10,
              "solidity": 0.2
             }
            },
            "type": "histogram"
           }
          ],
          "histogram2d": [
           {
            "colorbar": {
             "outlinewidth": 0,
             "ticks": ""
            },
            "colorscale": [
             [
              0,
              "#0d0887"
             ],
             [
              0.1111111111111111,
              "#46039f"
             ],
             [
              0.2222222222222222,
              "#7201a8"
             ],
             [
              0.3333333333333333,
              "#9c179e"
             ],
             [
              0.4444444444444444,
              "#bd3786"
             ],
             [
              0.5555555555555556,
              "#d8576b"
             ],
             [
              0.6666666666666666,
              "#ed7953"
             ],
             [
              0.7777777777777778,
              "#fb9f3a"
             ],
             [
              0.8888888888888888,
              "#fdca26"
             ],
             [
              1,
              "#f0f921"
             ]
            ],
            "type": "histogram2d"
           }
          ],
          "histogram2dcontour": [
           {
            "colorbar": {
             "outlinewidth": 0,
             "ticks": ""
            },
            "colorscale": [
             [
              0,
              "#0d0887"
             ],
             [
              0.1111111111111111,
              "#46039f"
             ],
             [
              0.2222222222222222,
              "#7201a8"
             ],
             [
              0.3333333333333333,
              "#9c179e"
             ],
             [
              0.4444444444444444,
              "#bd3786"
             ],
             [
              0.5555555555555556,
              "#d8576b"
             ],
             [
              0.6666666666666666,
              "#ed7953"
             ],
             [
              0.7777777777777778,
              "#fb9f3a"
             ],
             [
              0.8888888888888888,
              "#fdca26"
             ],
             [
              1,
              "#f0f921"
             ]
            ],
            "type": "histogram2dcontour"
           }
          ],
          "mesh3d": [
           {
            "colorbar": {
             "outlinewidth": 0,
             "ticks": ""
            },
            "type": "mesh3d"
           }
          ],
          "parcoords": [
           {
            "line": {
             "colorbar": {
              "outlinewidth": 0,
              "ticks": ""
             }
            },
            "type": "parcoords"
           }
          ],
          "pie": [
           {
            "automargin": true,
            "type": "pie"
           }
          ],
          "scatter": [
           {
            "fillpattern": {
             "fillmode": "overlay",
             "size": 10,
             "solidity": 0.2
            },
            "type": "scatter"
           }
          ],
          "scatter3d": [
           {
            "line": {
             "colorbar": {
              "outlinewidth": 0,
              "ticks": ""
             }
            },
            "marker": {
             "colorbar": {
              "outlinewidth": 0,
              "ticks": ""
             }
            },
            "type": "scatter3d"
           }
          ],
          "scattercarpet": [
           {
            "marker": {
             "colorbar": {
              "outlinewidth": 0,
              "ticks": ""
             }
            },
            "type": "scattercarpet"
           }
          ],
          "scattergeo": [
           {
            "marker": {
             "colorbar": {
              "outlinewidth": 0,
              "ticks": ""
             }
            },
            "type": "scattergeo"
           }
          ],
          "scattergl": [
           {
            "marker": {
             "colorbar": {
              "outlinewidth": 0,
              "ticks": ""
             }
            },
            "type": "scattergl"
           }
          ],
          "scattermapbox": [
           {
            "marker": {
             "colorbar": {
              "outlinewidth": 0,
              "ticks": ""
             }
            },
            "type": "scattermapbox"
           }
          ],
          "scatterpolar": [
           {
            "marker": {
             "colorbar": {
              "outlinewidth": 0,
              "ticks": ""
             }
            },
            "type": "scatterpolar"
           }
          ],
          "scatterpolargl": [
           {
            "marker": {
             "colorbar": {
              "outlinewidth": 0,
              "ticks": ""
             }
            },
            "type": "scatterpolargl"
           }
          ],
          "scatterternary": [
           {
            "marker": {
             "colorbar": {
              "outlinewidth": 0,
              "ticks": ""
             }
            },
            "type": "scatterternary"
           }
          ],
          "surface": [
           {
            "colorbar": {
             "outlinewidth": 0,
             "ticks": ""
            },
            "colorscale": [
             [
              0,
              "#0d0887"
             ],
             [
              0.1111111111111111,
              "#46039f"
             ],
             [
              0.2222222222222222,
              "#7201a8"
             ],
             [
              0.3333333333333333,
              "#9c179e"
             ],
             [
              0.4444444444444444,
              "#bd3786"
             ],
             [
              0.5555555555555556,
              "#d8576b"
             ],
             [
              0.6666666666666666,
              "#ed7953"
             ],
             [
              0.7777777777777778,
              "#fb9f3a"
             ],
             [
              0.8888888888888888,
              "#fdca26"
             ],
             [
              1,
              "#f0f921"
             ]
            ],
            "type": "surface"
           }
          ],
          "table": [
           {
            "cells": {
             "fill": {
              "color": "#EBF0F8"
             },
             "line": {
              "color": "white"
             }
            },
            "header": {
             "fill": {
              "color": "#C8D4E3"
             },
             "line": {
              "color": "white"
             }
            },
            "type": "table"
           }
          ]
         },
         "layout": {
          "annotationdefaults": {
           "arrowcolor": "#2a3f5f",
           "arrowhead": 0,
           "arrowwidth": 1
          },
          "autotypenumbers": "strict",
          "coloraxis": {
           "colorbar": {
            "outlinewidth": 0,
            "ticks": ""
           }
          },
          "colorscale": {
           "diverging": [
            [
             0,
             "#8e0152"
            ],
            [
             0.1,
             "#c51b7d"
            ],
            [
             0.2,
             "#de77ae"
            ],
            [
             0.3,
             "#f1b6da"
            ],
            [
             0.4,
             "#fde0ef"
            ],
            [
             0.5,
             "#f7f7f7"
            ],
            [
             0.6,
             "#e6f5d0"
            ],
            [
             0.7,
             "#b8e186"
            ],
            [
             0.8,
             "#7fbc41"
            ],
            [
             0.9,
             "#4d9221"
            ],
            [
             1,
             "#276419"
            ]
           ],
           "sequential": [
            [
             0,
             "#0d0887"
            ],
            [
             0.1111111111111111,
             "#46039f"
            ],
            [
             0.2222222222222222,
             "#7201a8"
            ],
            [
             0.3333333333333333,
             "#9c179e"
            ],
            [
             0.4444444444444444,
             "#bd3786"
            ],
            [
             0.5555555555555556,
             "#d8576b"
            ],
            [
             0.6666666666666666,
             "#ed7953"
            ],
            [
             0.7777777777777778,
             "#fb9f3a"
            ],
            [
             0.8888888888888888,
             "#fdca26"
            ],
            [
             1,
             "#f0f921"
            ]
           ],
           "sequentialminus": [
            [
             0,
             "#0d0887"
            ],
            [
             0.1111111111111111,
             "#46039f"
            ],
            [
             0.2222222222222222,
             "#7201a8"
            ],
            [
             0.3333333333333333,
             "#9c179e"
            ],
            [
             0.4444444444444444,
             "#bd3786"
            ],
            [
             0.5555555555555556,
             "#d8576b"
            ],
            [
             0.6666666666666666,
             "#ed7953"
            ],
            [
             0.7777777777777778,
             "#fb9f3a"
            ],
            [
             0.8888888888888888,
             "#fdca26"
            ],
            [
             1,
             "#f0f921"
            ]
           ]
          },
          "colorway": [
           "#636efa",
           "#EF553B",
           "#00cc96",
           "#ab63fa",
           "#FFA15A",
           "#19d3f3",
           "#FF6692",
           "#B6E880",
           "#FF97FF",
           "#FECB52"
          ],
          "font": {
           "color": "#2a3f5f"
          },
          "geo": {
           "bgcolor": "white",
           "lakecolor": "white",
           "landcolor": "#E5ECF6",
           "showlakes": true,
           "showland": true,
           "subunitcolor": "white"
          },
          "hoverlabel": {
           "align": "left"
          },
          "hovermode": "closest",
          "mapbox": {
           "style": "light"
          },
          "paper_bgcolor": "white",
          "plot_bgcolor": "#E5ECF6",
          "polar": {
           "angularaxis": {
            "gridcolor": "white",
            "linecolor": "white",
            "ticks": ""
           },
           "bgcolor": "#E5ECF6",
           "radialaxis": {
            "gridcolor": "white",
            "linecolor": "white",
            "ticks": ""
           }
          },
          "scene": {
           "xaxis": {
            "backgroundcolor": "#E5ECF6",
            "gridcolor": "white",
            "gridwidth": 2,
            "linecolor": "white",
            "showbackground": true,
            "ticks": "",
            "zerolinecolor": "white"
           },
           "yaxis": {
            "backgroundcolor": "#E5ECF6",
            "gridcolor": "white",
            "gridwidth": 2,
            "linecolor": "white",
            "showbackground": true,
            "ticks": "",
            "zerolinecolor": "white"
           },
           "zaxis": {
            "backgroundcolor": "#E5ECF6",
            "gridcolor": "white",
            "gridwidth": 2,
            "linecolor": "white",
            "showbackground": true,
            "ticks": "",
            "zerolinecolor": "white"
           }
          },
          "shapedefaults": {
           "line": {
            "color": "#2a3f5f"
           }
          },
          "ternary": {
           "aaxis": {
            "gridcolor": "white",
            "linecolor": "white",
            "ticks": ""
           },
           "baxis": {
            "gridcolor": "white",
            "linecolor": "white",
            "ticks": ""
           },
           "bgcolor": "#E5ECF6",
           "caxis": {
            "gridcolor": "white",
            "linecolor": "white",
            "ticks": ""
           }
          },
          "title": {
           "x": 0.05
          },
          "xaxis": {
           "automargin": true,
           "gridcolor": "white",
           "linecolor": "white",
           "ticks": "",
           "title": {
            "standoff": 15
           },
           "zerolinecolor": "white",
           "zerolinewidth": 2
          },
          "yaxis": {
           "automargin": true,
           "gridcolor": "white",
           "linecolor": "white",
           "ticks": "",
           "title": {
            "standoff": 15
           },
           "zerolinecolor": "white",
           "zerolinewidth": 2
          }
         }
        },
        "title": {
         "text": "Total Sales by Store"
        },
        "xaxis": {
         "anchor": "y",
         "categoryarray": [
          "S001",
          "S002",
          "S003",
          "S004"
         ],
         "categoryorder": "array",
         "domain": [
          0,
          1
         ],
         "title": {
          "text": "Store ID"
         }
        },
        "yaxis": {
         "anchor": "x",
         "domain": [
          0,
          1
         ],
         "title": {
          "text": "Total Sales Amount ($)"
         }
        }
       }
      }
     },
     "metadata": {},
     "output_type": "display_data"
    }
   ],
   "source": [
    "# Aggregate by Store\n",
    "store_data = data.groupby('Store ID').agg({\n",
    "    'Units Sold': 'sum',\n",
    "    'Sales Amount': 'sum'\n",
    "}).reset_index()\n",
    "\n",
    "# Plot sales by store\n",
    "fig = px.bar(store_data, x='Store ID', y='Sales Amount', color='Store ID',\n",
    "             title=\"Total Sales by Store\",\n",
    "             labels={'Sales Amount': 'Total Sales ($)'},\n",
    "             hover_data={'Units Sold': True})\n",
    "\n",
    "fig.update_layout(xaxis_title=\"Store ID\", yaxis_title=\"Total Sales Amount ($)\")\n",
    "fig.show()\n"
   ]
  },
  {
   "cell_type": "code",
   "execution_count": 19,
   "metadata": {},
   "outputs": [
    {
     "data": {
      "application/vnd.plotly.v1+json": {
       "config": {
        "plotlyServerURL": "https://plot.ly"
       },
       "data": [
        {
         "alignmentgroup": "True",
         "customdata": [
          [
           2414.6666666666665
          ],
          [
           2915.9333333333334
          ],
          [
           2603.6666666666665
          ],
          [
           2892.4
          ]
         ],
         "hovertemplate": "Total Sales ($)=%{marker.color}<br>Product=%{y}<br>Units Sold=%{customdata[0]}<extra></extra>",
         "legendgroup": "",
         "marker": {
          "color": [
           22205.636444444444,
           24288.77611111111,
           25093.155777777778,
           24235.076111111113
          ],
          "coloraxis": "coloraxis",
          "pattern": {
           "shape": ""
          }
         },
         "name": "",
         "offsetgroup": "",
         "orientation": "h",
         "showlegend": false,
         "textposition": "auto",
         "type": "bar",
         "x": [
          22205.636444444444,
          24288.77611111111,
          25093.155777777778,
          24235.076111111113
         ],
         "xaxis": "x",
         "y": [
          "P001",
          "P002",
          "P003",
          "P004"
         ],
         "yaxis": "y"
        }
       ],
       "layout": {
        "barmode": "relative",
        "coloraxis": {
         "colorbar": {
          "title": {
           "text": "Total Sales ($)"
          }
         },
         "colorscale": [
          [
           0,
           "#0d0887"
          ],
          [
           0.1111111111111111,
           "#46039f"
          ],
          [
           0.2222222222222222,
           "#7201a8"
          ],
          [
           0.3333333333333333,
           "#9c179e"
          ],
          [
           0.4444444444444444,
           "#bd3786"
          ],
          [
           0.5555555555555556,
           "#d8576b"
          ],
          [
           0.6666666666666666,
           "#ed7953"
          ],
          [
           0.7777777777777778,
           "#fb9f3a"
          ],
          [
           0.8888888888888888,
           "#fdca26"
          ],
          [
           1,
           "#f0f921"
          ]
         ]
        },
        "legend": {
         "tracegroupgap": 0
        },
        "template": {
         "data": {
          "bar": [
           {
            "error_x": {
             "color": "#2a3f5f"
            },
            "error_y": {
             "color": "#2a3f5f"
            },
            "marker": {
             "line": {
              "color": "#E5ECF6",
              "width": 0.5
             },
             "pattern": {
              "fillmode": "overlay",
              "size": 10,
              "solidity": 0.2
             }
            },
            "type": "bar"
           }
          ],
          "barpolar": [
           {
            "marker": {
             "line": {
              "color": "#E5ECF6",
              "width": 0.5
             },
             "pattern": {
              "fillmode": "overlay",
              "size": 10,
              "solidity": 0.2
             }
            },
            "type": "barpolar"
           }
          ],
          "carpet": [
           {
            "aaxis": {
             "endlinecolor": "#2a3f5f",
             "gridcolor": "white",
             "linecolor": "white",
             "minorgridcolor": "white",
             "startlinecolor": "#2a3f5f"
            },
            "baxis": {
             "endlinecolor": "#2a3f5f",
             "gridcolor": "white",
             "linecolor": "white",
             "minorgridcolor": "white",
             "startlinecolor": "#2a3f5f"
            },
            "type": "carpet"
           }
          ],
          "choropleth": [
           {
            "colorbar": {
             "outlinewidth": 0,
             "ticks": ""
            },
            "type": "choropleth"
           }
          ],
          "contour": [
           {
            "colorbar": {
             "outlinewidth": 0,
             "ticks": ""
            },
            "colorscale": [
             [
              0,
              "#0d0887"
             ],
             [
              0.1111111111111111,
              "#46039f"
             ],
             [
              0.2222222222222222,
              "#7201a8"
             ],
             [
              0.3333333333333333,
              "#9c179e"
             ],
             [
              0.4444444444444444,
              "#bd3786"
             ],
             [
              0.5555555555555556,
              "#d8576b"
             ],
             [
              0.6666666666666666,
              "#ed7953"
             ],
             [
              0.7777777777777778,
              "#fb9f3a"
             ],
             [
              0.8888888888888888,
              "#fdca26"
             ],
             [
              1,
              "#f0f921"
             ]
            ],
            "type": "contour"
           }
          ],
          "contourcarpet": [
           {
            "colorbar": {
             "outlinewidth": 0,
             "ticks": ""
            },
            "type": "contourcarpet"
           }
          ],
          "heatmap": [
           {
            "colorbar": {
             "outlinewidth": 0,
             "ticks": ""
            },
            "colorscale": [
             [
              0,
              "#0d0887"
             ],
             [
              0.1111111111111111,
              "#46039f"
             ],
             [
              0.2222222222222222,
              "#7201a8"
             ],
             [
              0.3333333333333333,
              "#9c179e"
             ],
             [
              0.4444444444444444,
              "#bd3786"
             ],
             [
              0.5555555555555556,
              "#d8576b"
             ],
             [
              0.6666666666666666,
              "#ed7953"
             ],
             [
              0.7777777777777778,
              "#fb9f3a"
             ],
             [
              0.8888888888888888,
              "#fdca26"
             ],
             [
              1,
              "#f0f921"
             ]
            ],
            "type": "heatmap"
           }
          ],
          "heatmapgl": [
           {
            "colorbar": {
             "outlinewidth": 0,
             "ticks": ""
            },
            "colorscale": [
             [
              0,
              "#0d0887"
             ],
             [
              0.1111111111111111,
              "#46039f"
             ],
             [
              0.2222222222222222,
              "#7201a8"
             ],
             [
              0.3333333333333333,
              "#9c179e"
             ],
             [
              0.4444444444444444,
              "#bd3786"
             ],
             [
              0.5555555555555556,
              "#d8576b"
             ],
             [
              0.6666666666666666,
              "#ed7953"
             ],
             [
              0.7777777777777778,
              "#fb9f3a"
             ],
             [
              0.8888888888888888,
              "#fdca26"
             ],
             [
              1,
              "#f0f921"
             ]
            ],
            "type": "heatmapgl"
           }
          ],
          "histogram": [
           {
            "marker": {
             "pattern": {
              "fillmode": "overlay",
              "size": 10,
              "solidity": 0.2
             }
            },
            "type": "histogram"
           }
          ],
          "histogram2d": [
           {
            "colorbar": {
             "outlinewidth": 0,
             "ticks": ""
            },
            "colorscale": [
             [
              0,
              "#0d0887"
             ],
             [
              0.1111111111111111,
              "#46039f"
             ],
             [
              0.2222222222222222,
              "#7201a8"
             ],
             [
              0.3333333333333333,
              "#9c179e"
             ],
             [
              0.4444444444444444,
              "#bd3786"
             ],
             [
              0.5555555555555556,
              "#d8576b"
             ],
             [
              0.6666666666666666,
              "#ed7953"
             ],
             [
              0.7777777777777778,
              "#fb9f3a"
             ],
             [
              0.8888888888888888,
              "#fdca26"
             ],
             [
              1,
              "#f0f921"
             ]
            ],
            "type": "histogram2d"
           }
          ],
          "histogram2dcontour": [
           {
            "colorbar": {
             "outlinewidth": 0,
             "ticks": ""
            },
            "colorscale": [
             [
              0,
              "#0d0887"
             ],
             [
              0.1111111111111111,
              "#46039f"
             ],
             [
              0.2222222222222222,
              "#7201a8"
             ],
             [
              0.3333333333333333,
              "#9c179e"
             ],
             [
              0.4444444444444444,
              "#bd3786"
             ],
             [
              0.5555555555555556,
              "#d8576b"
             ],
             [
              0.6666666666666666,
              "#ed7953"
             ],
             [
              0.7777777777777778,
              "#fb9f3a"
             ],
             [
              0.8888888888888888,
              "#fdca26"
             ],
             [
              1,
              "#f0f921"
             ]
            ],
            "type": "histogram2dcontour"
           }
          ],
          "mesh3d": [
           {
            "colorbar": {
             "outlinewidth": 0,
             "ticks": ""
            },
            "type": "mesh3d"
           }
          ],
          "parcoords": [
           {
            "line": {
             "colorbar": {
              "outlinewidth": 0,
              "ticks": ""
             }
            },
            "type": "parcoords"
           }
          ],
          "pie": [
           {
            "automargin": true,
            "type": "pie"
           }
          ],
          "scatter": [
           {
            "fillpattern": {
             "fillmode": "overlay",
             "size": 10,
             "solidity": 0.2
            },
            "type": "scatter"
           }
          ],
          "scatter3d": [
           {
            "line": {
             "colorbar": {
              "outlinewidth": 0,
              "ticks": ""
             }
            },
            "marker": {
             "colorbar": {
              "outlinewidth": 0,
              "ticks": ""
             }
            },
            "type": "scatter3d"
           }
          ],
          "scattercarpet": [
           {
            "marker": {
             "colorbar": {
              "outlinewidth": 0,
              "ticks": ""
             }
            },
            "type": "scattercarpet"
           }
          ],
          "scattergeo": [
           {
            "marker": {
             "colorbar": {
              "outlinewidth": 0,
              "ticks": ""
             }
            },
            "type": "scattergeo"
           }
          ],
          "scattergl": [
           {
            "marker": {
             "colorbar": {
              "outlinewidth": 0,
              "ticks": ""
             }
            },
            "type": "scattergl"
           }
          ],
          "scattermapbox": [
           {
            "marker": {
             "colorbar": {
              "outlinewidth": 0,
              "ticks": ""
             }
            },
            "type": "scattermapbox"
           }
          ],
          "scatterpolar": [
           {
            "marker": {
             "colorbar": {
              "outlinewidth": 0,
              "ticks": ""
             }
            },
            "type": "scatterpolar"
           }
          ],
          "scatterpolargl": [
           {
            "marker": {
             "colorbar": {
              "outlinewidth": 0,
              "ticks": ""
             }
            },
            "type": "scatterpolargl"
           }
          ],
          "scatterternary": [
           {
            "marker": {
             "colorbar": {
              "outlinewidth": 0,
              "ticks": ""
             }
            },
            "type": "scatterternary"
           }
          ],
          "surface": [
           {
            "colorbar": {
             "outlinewidth": 0,
             "ticks": ""
            },
            "colorscale": [
             [
              0,
              "#0d0887"
             ],
             [
              0.1111111111111111,
              "#46039f"
             ],
             [
              0.2222222222222222,
              "#7201a8"
             ],
             [
              0.3333333333333333,
              "#9c179e"
             ],
             [
              0.4444444444444444,
              "#bd3786"
             ],
             [
              0.5555555555555556,
              "#d8576b"
             ],
             [
              0.6666666666666666,
              "#ed7953"
             ],
             [
              0.7777777777777778,
              "#fb9f3a"
             ],
             [
              0.8888888888888888,
              "#fdca26"
             ],
             [
              1,
              "#f0f921"
             ]
            ],
            "type": "surface"
           }
          ],
          "table": [
           {
            "cells": {
             "fill": {
              "color": "#EBF0F8"
             },
             "line": {
              "color": "white"
             }
            },
            "header": {
             "fill": {
              "color": "#C8D4E3"
             },
             "line": {
              "color": "white"
             }
            },
            "type": "table"
           }
          ]
         },
         "layout": {
          "annotationdefaults": {
           "arrowcolor": "#2a3f5f",
           "arrowhead": 0,
           "arrowwidth": 1
          },
          "autotypenumbers": "strict",
          "coloraxis": {
           "colorbar": {
            "outlinewidth": 0,
            "ticks": ""
           }
          },
          "colorscale": {
           "diverging": [
            [
             0,
             "#8e0152"
            ],
            [
             0.1,
             "#c51b7d"
            ],
            [
             0.2,
             "#de77ae"
            ],
            [
             0.3,
             "#f1b6da"
            ],
            [
             0.4,
             "#fde0ef"
            ],
            [
             0.5,
             "#f7f7f7"
            ],
            [
             0.6,
             "#e6f5d0"
            ],
            [
             0.7,
             "#b8e186"
            ],
            [
             0.8,
             "#7fbc41"
            ],
            [
             0.9,
             "#4d9221"
            ],
            [
             1,
             "#276419"
            ]
           ],
           "sequential": [
            [
             0,
             "#0d0887"
            ],
            [
             0.1111111111111111,
             "#46039f"
            ],
            [
             0.2222222222222222,
             "#7201a8"
            ],
            [
             0.3333333333333333,
             "#9c179e"
            ],
            [
             0.4444444444444444,
             "#bd3786"
            ],
            [
             0.5555555555555556,
             "#d8576b"
            ],
            [
             0.6666666666666666,
             "#ed7953"
            ],
            [
             0.7777777777777778,
             "#fb9f3a"
            ],
            [
             0.8888888888888888,
             "#fdca26"
            ],
            [
             1,
             "#f0f921"
            ]
           ],
           "sequentialminus": [
            [
             0,
             "#0d0887"
            ],
            [
             0.1111111111111111,
             "#46039f"
            ],
            [
             0.2222222222222222,
             "#7201a8"
            ],
            [
             0.3333333333333333,
             "#9c179e"
            ],
            [
             0.4444444444444444,
             "#bd3786"
            ],
            [
             0.5555555555555556,
             "#d8576b"
            ],
            [
             0.6666666666666666,
             "#ed7953"
            ],
            [
             0.7777777777777778,
             "#fb9f3a"
            ],
            [
             0.8888888888888888,
             "#fdca26"
            ],
            [
             1,
             "#f0f921"
            ]
           ]
          },
          "colorway": [
           "#636efa",
           "#EF553B",
           "#00cc96",
           "#ab63fa",
           "#FFA15A",
           "#19d3f3",
           "#FF6692",
           "#B6E880",
           "#FF97FF",
           "#FECB52"
          ],
          "font": {
           "color": "#2a3f5f"
          },
          "geo": {
           "bgcolor": "white",
           "lakecolor": "white",
           "landcolor": "#E5ECF6",
           "showlakes": true,
           "showland": true,
           "subunitcolor": "white"
          },
          "hoverlabel": {
           "align": "left"
          },
          "hovermode": "closest",
          "mapbox": {
           "style": "light"
          },
          "paper_bgcolor": "white",
          "plot_bgcolor": "#E5ECF6",
          "polar": {
           "angularaxis": {
            "gridcolor": "white",
            "linecolor": "white",
            "ticks": ""
           },
           "bgcolor": "#E5ECF6",
           "radialaxis": {
            "gridcolor": "white",
            "linecolor": "white",
            "ticks": ""
           }
          },
          "scene": {
           "xaxis": {
            "backgroundcolor": "#E5ECF6",
            "gridcolor": "white",
            "gridwidth": 2,
            "linecolor": "white",
            "showbackground": true,
            "ticks": "",
            "zerolinecolor": "white"
           },
           "yaxis": {
            "backgroundcolor": "#E5ECF6",
            "gridcolor": "white",
            "gridwidth": 2,
            "linecolor": "white",
            "showbackground": true,
            "ticks": "",
            "zerolinecolor": "white"
           },
           "zaxis": {
            "backgroundcolor": "#E5ECF6",
            "gridcolor": "white",
            "gridwidth": 2,
            "linecolor": "white",
            "showbackground": true,
            "ticks": "",
            "zerolinecolor": "white"
           }
          },
          "shapedefaults": {
           "line": {
            "color": "#2a3f5f"
           }
          },
          "ternary": {
           "aaxis": {
            "gridcolor": "white",
            "linecolor": "white",
            "ticks": ""
           },
           "baxis": {
            "gridcolor": "white",
            "linecolor": "white",
            "ticks": ""
           },
           "bgcolor": "#E5ECF6",
           "caxis": {
            "gridcolor": "white",
            "linecolor": "white",
            "ticks": ""
           }
          },
          "title": {
           "x": 0.05
          },
          "xaxis": {
           "automargin": true,
           "gridcolor": "white",
           "linecolor": "white",
           "ticks": "",
           "title": {
            "standoff": 15
           },
           "zerolinecolor": "white",
           "zerolinewidth": 2
          },
          "yaxis": {
           "automargin": true,
           "gridcolor": "white",
           "linecolor": "white",
           "ticks": "",
           "title": {
            "standoff": 15
           },
           "zerolinecolor": "white",
           "zerolinewidth": 2
          }
         }
        },
        "title": {
         "text": "Total Sales by Product"
        },
        "xaxis": {
         "anchor": "y",
         "domain": [
          0,
          1
         ],
         "title": {
          "text": "Sales Amount ($)"
         }
        },
        "yaxis": {
         "anchor": "x",
         "domain": [
          0,
          1
         ],
         "title": {
          "text": "Product ID"
         }
        }
       }
      }
     },
     "metadata": {},
     "output_type": "display_data"
    }
   ],
   "source": [
    "# Aggregate by Product\n",
    "product_data = data.groupby('Product ID').agg({\n",
    "    'Units Sold': 'sum',\n",
    "    'Sales Amount': 'sum'\n",
    "}).reset_index()\n",
    "\n",
    "# Plot Sales and Units Sold by product in a horizontal bar chart\n",
    "fig = px.bar(product_data, y='Product ID', x='Sales Amount', orientation='h',\n",
    "             title=\"Total Sales by Product\",\n",
    "             color='Sales Amount',\n",
    "             labels={'Sales Amount': 'Total Sales ($)', 'Product ID': 'Product'},\n",
    "             hover_data={'Units Sold': True})\n",
    "\n",
    "fig.update_layout(xaxis_title=\"Sales Amount ($)\", yaxis_title=\"Product ID\")\n",
    "fig.show()\n"
   ]
  },
  {
   "cell_type": "code",
   "execution_count": 20,
   "metadata": {},
   "outputs": [
    {
     "data": {
      "application/vnd.plotly.v1+json": {
       "config": {
        "plotlyServerURL": "https://plot.ly"
       },
       "data": [
        {
         "hovertemplate": "Discount (%)=%{x}<br>Sales Amount ($)=%{y}<extra></extra>",
         "legendgroup": "",
         "marker": {
          "color": "#636efa",
          "opacity": 0.7,
          "size": 8,
          "symbol": "circle"
         },
         "mode": "markers",
         "name": "",
         "orientation": "v",
         "showlegend": false,
         "type": "scatter",
         "x": [
          6.69,
          14.46,
          7.727499999999999,
          7.02,
          6.08,
          13.96,
          7.49,
          7.91,
          11.43,
          10.44,
          9.34,
          13.32,
          5.24,
          9.28,
          7.727499999999999,
          5.25,
          6.24,
          12.42,
          7.56,
          7.727499999999999,
          12.09,
          14.43,
          3.68,
          13.39,
          1.65,
          2.67,
          7.727499999999999,
          0.02,
          0.38,
          9.24,
          0.13,
          13.87,
          12.61,
          1.68,
          4.17,
          10.83,
          4.87,
          7.727499999999999,
          8.92,
          3.21,
          7.727499999999999,
          14.98,
          12.01,
          9.42,
          2.4,
          14.6,
          9.43,
          5.96,
          12.27,
          7.727499999999999,
          2.86,
          2.26,
          6.98,
          9.56,
          8.74,
          1.8,
          7.727499999999999,
          6.8,
          9.88,
          7.09,
          7.5,
          6.68,
          3.22,
          6.07,
          10.29,
          7.727499999999999,
          7.36,
          9.47,
          10.32,
          14.73,
          0.02,
          11.9,
          12.99,
          12.2,
          12.21,
          3.27,
          0.96,
          10.36,
          7.727499999999999,
          5.73,
          12.79,
          5.77,
          7.727499999999999,
          11.61,
          0.97,
          10.8,
          13.38,
          11.05,
          1.14,
          0.78,
          2,
          13.51,
          5.32,
          14.17,
          14.19,
          10.52,
          7.727499999999999,
          12.88,
          6.26,
          8.08,
          7.47,
          13.61,
          2.03,
          3.04,
          12.9,
          1.56,
          10.37,
          12.39,
          7.727499999999999,
          7.727499999999999,
          13.55,
          14.14,
          4.64,
          8.26,
          8.45,
          3.9,
          1.06,
          7.24,
          6.69,
          5.88,
          5,
          14.14,
          7.727499999999999,
          9.06,
          6.78,
          3.16,
          5.04,
          12.25,
          14.19,
          1.89,
          2.73,
          5.76,
          9.58,
          5.73,
          11.69,
          7.727499999999999,
          2.73,
          6.51,
          1.61,
          0.1,
          13.13,
          12.78,
          5.72,
          14.01,
          13.47,
          7.33,
          8.34,
          14.79,
          5.06,
          0.72,
          6.56,
          2.47,
          10.43,
          8.97,
          14.12,
          10.42,
          4.47,
          10.3,
          13.27,
          3.28,
          7.727499999999999,
          8.67,
          10.05,
          6.68,
          5.04,
          6.62,
          7.727499999999999,
          5.57,
          4.4,
          4.21,
          7.06,
          9.15,
          4.34,
          14.78,
          11.9,
          7.727499999999999,
          1.03,
          0.89,
          5.26,
          11.78,
          9.87,
          8.86,
          7.34,
          10.69,
          2.08,
          6.54,
          6.36,
          2.86,
          1.92,
          3.07,
          7.07,
          6.33,
          10.42,
          4.48,
          4.31,
          9.38,
          14.41,
          7.727499999999999,
          7.24,
          6.01
         ],
         "xaxis": "x",
         "y": [
          584.4,
          210.8,
          21.92,
          789.62,
          479.11322222222225,
          359.15,
          672.28,
          155.03,
          788.55,
          479.11322222222225,
          742.36,
          398.53,
          577.99,
          118.28,
          921.14,
          378.87,
          549.11,
          296.93,
          671.42,
          941.13,
          621.96,
          723.34,
          323.29,
          944.58,
          304.22,
          493.22,
          975.14,
          617.58,
          260.26,
          982.28,
          886.75,
          659.05,
          815.28,
          479.11322222222225,
          174.74,
          270.32,
          112.07,
          314.12,
          325.84,
          40.52,
          924.83,
          168.66,
          372.94,
          833.81,
          754.15,
          35.9,
          30.25,
          86.1,
          686.03,
          318.51,
          815.1,
          543.08,
          744.24,
          970.48,
          717.22,
          651.1,
          942.23,
          851.22,
          898.2,
          135.67,
          117.16,
          393.94,
          947.89,
          36.69,
          680.38,
          479.11322222222225,
          964.93,
          193.93,
          870.4,
          905.5,
          479.11322222222225,
          929.08,
          900.23,
          493.36,
          139.98,
          380.34,
          479.11322222222225,
          788.02,
          730.18,
          424.01,
          479.11322222222225,
          291.8,
          479.11322222222225,
          944.36,
          709.97,
          52.32,
          948.49,
          874.49,
          479.11322222222225,
          927.69,
          38.56,
          400.81,
          538.29,
          469.12,
          338.55,
          406.3,
          96.97,
          681.2,
          360.78,
          94.25,
          51.92,
          439.06,
          479.11322222222225,
          490.71,
          479.11322222222225,
          648.88,
          189.89,
          479.11322222222225,
          753.25,
          216.53,
          262.85,
          225.48,
          398.37,
          210.74,
          448.24,
          511.94,
          279.95,
          26.66,
          658.07,
          587.77,
          856.98,
          479.11322222222225,
          317.98,
          780.47,
          479.11322222222225,
          185.93,
          479.11322222222225,
          291.67,
          312.77,
          745.29,
          304.63,
          171.64,
          610.77,
          35.54,
          10.16,
          479.11322222222225,
          678.27,
          149.94,
          526.64,
          746.72,
          919.22,
          954.49,
          232.02,
          485.45,
          102.52,
          131.14,
          329.47,
          107.14,
          235.49,
          206.32,
          198.8,
          523.41,
          355.65,
          343.67,
          663.88,
          39.13,
          226.8,
          353.18,
          832.79,
          178.58,
          257.63,
          479.11322222222225,
          531.54,
          133.93,
          669.73,
          929.16,
          950.7,
          625.97,
          479.11322222222225,
          182.71,
          606.38,
          186.67,
          611.49,
          28.97,
          225.63,
          955,
          479.11322222222225,
          477.46,
          46.08,
          575.49,
          479.11322222222225,
          883.08,
          28.95,
          51.15,
          59.16,
          96.25,
          440.3,
          581.66,
          483.71,
          242.03,
          813.17,
          786.01,
          110.39,
          963.51,
          607,
          415.67,
          474.07,
          888.55,
          563.2,
          641.36
         ],
         "yaxis": "y"
        },
        {
         "hovertemplate": "<b>OLS trendline</b><br>Sales Amount = 0.60125 * Discount Applied + 474.467<br>R<sup>2</sup>=0.000072<br><br>Discount (%)=%{x}<br>Sales Amount ($)=%{y} <b>(trend)</b><extra></extra>",
         "legendgroup": "",
         "marker": {
          "color": "#636efa",
          "opacity": 0.7,
          "size": 8,
          "symbol": "circle"
         },
         "mode": "lines",
         "name": "",
         "showlegend": false,
         "type": "scatter",
         "x": [
          0.02,
          0.02,
          0.1,
          0.13,
          0.38,
          0.72,
          0.78,
          0.89,
          0.96,
          0.97,
          1.03,
          1.06,
          1.14,
          1.56,
          1.61,
          1.65,
          1.68,
          1.8,
          1.89,
          1.92,
          2,
          2.03,
          2.08,
          2.26,
          2.4,
          2.47,
          2.67,
          2.73,
          2.73,
          2.86,
          2.86,
          3.04,
          3.07,
          3.16,
          3.21,
          3.22,
          3.27,
          3.28,
          3.68,
          3.9,
          4.17,
          4.21,
          4.31,
          4.34,
          4.4,
          4.47,
          4.48,
          4.64,
          4.87,
          5,
          5.04,
          5.04,
          5.06,
          5.24,
          5.25,
          5.26,
          5.32,
          5.57,
          5.72,
          5.73,
          5.73,
          5.76,
          5.77,
          5.88,
          5.96,
          6.01,
          6.07,
          6.08,
          6.24,
          6.26,
          6.33,
          6.36,
          6.51,
          6.54,
          6.56,
          6.62,
          6.68,
          6.68,
          6.69,
          6.69,
          6.78,
          6.8,
          6.98,
          7.02,
          7.06,
          7.07,
          7.09,
          7.24,
          7.24,
          7.33,
          7.34,
          7.36,
          7.47,
          7.49,
          7.5,
          7.56,
          7.727499999999999,
          7.727499999999999,
          7.727499999999999,
          7.727499999999999,
          7.727499999999999,
          7.727499999999999,
          7.727499999999999,
          7.727499999999999,
          7.727499999999999,
          7.727499999999999,
          7.727499999999999,
          7.727499999999999,
          7.727499999999999,
          7.727499999999999,
          7.727499999999999,
          7.727499999999999,
          7.727499999999999,
          7.727499999999999,
          7.727499999999999,
          7.727499999999999,
          7.91,
          8.08,
          8.26,
          8.34,
          8.45,
          8.67,
          8.74,
          8.86,
          8.92,
          8.97,
          9.06,
          9.15,
          9.24,
          9.28,
          9.34,
          9.38,
          9.42,
          9.43,
          9.47,
          9.56,
          9.58,
          9.87,
          9.88,
          10.05,
          10.29,
          10.3,
          10.32,
          10.36,
          10.37,
          10.42,
          10.42,
          10.43,
          10.44,
          10.52,
          10.69,
          10.8,
          10.83,
          11.05,
          11.43,
          11.61,
          11.69,
          11.78,
          11.9,
          11.9,
          12.01,
          12.09,
          12.2,
          12.21,
          12.25,
          12.27,
          12.39,
          12.42,
          12.61,
          12.78,
          12.79,
          12.88,
          12.9,
          12.99,
          13.13,
          13.27,
          13.32,
          13.38,
          13.39,
          13.47,
          13.51,
          13.55,
          13.61,
          13.87,
          13.96,
          14.01,
          14.12,
          14.14,
          14.14,
          14.17,
          14.19,
          14.19,
          14.41,
          14.43,
          14.46,
          14.6,
          14.73,
          14.78,
          14.79,
          14.98
         ],
         "xaxis": "x",
         "y": [
          474.4790873035892,
          474.4790873035892,
          474.52718730923186,
          474.54522481134785,
          474.69553732898106,
          474.8999623529623,
          474.93603735719427,
          475.0021748649529,
          475.04426236989025,
          475.05027487059556,
          475.08634987482753,
          475.1043873769435,
          475.1524873825862,
          475.40501241221006,
          475.4350749157367,
          475.459124918558,
          475.477162420674,
          475.54931242913796,
          475.6034249354859,
          475.62146243760196,
          475.66956244324456,
          475.68759994536055,
          475.7176624488872,
          475.82588746158314,
          475.91006247145776,
          475.9521499763951,
          476.0723999905017,
          476.1084749947337,
          476.1084749947337,
          476.186637503903,
          476.186637503903,
          476.2948625165989,
          476.3129000187149,
          476.3670125250629,
          476.39707502858954,
          476.40308752929485,
          476.4331500328215,
          476.4391625335268,
          476.67966256174003,
          476.8119375772573,
          476.97427509630126,
          476.99832509912255,
          477.0584501061759,
          477.07648760829187,
          477.11256261252385,
          477.15465011746113,
          477.1606626181665,
          477.25686262945175,
          477.39515014567434,
          477.47331265484365,
          477.49736265766495,
          477.49736265766495,
          477.5093876590756,
          477.61761267177155,
          477.6236251724769,
          477.62963767318223,
          477.6657126774142,
          477.8160251950475,
          477.9062127056274,
          477.9122252063327,
          477.9122252063327,
          477.93026270844877,
          477.9362752091541,
          478.0024127169127,
          478.05051272255537,
          478.080575226082,
          478.11665023031395,
          478.1226627310193,
          478.21886274230457,
          478.23088774371524,
          478.2729752486526,
          478.2910127507686,
          478.3812002613485,
          478.3992377634645,
          478.4112627648752,
          478.44733776910715,
          478.4834127733391,
          478.4834127733391,
          478.48942527404444,
          478.48942527404444,
          478.5435377803924,
          478.5555627818031,
          478.663787794499,
          478.68783779732036,
          478.71188780014165,
          478.717900300847,
          478.72992530225764,
          478.82011281283764,
          478.82011281283764,
          478.8742253191856,
          478.8802378198909,
          478.8922628213016,
          478.9584003290602,
          478.97042533047085,
          478.9764378311762,
          479.0125128354082,
          479.1132222222225,
          479.1132222222225,
          479.1132222222225,
          479.1132222222225,
          479.1132222222225,
          479.1132222222225,
          479.1132222222225,
          479.1132222222225,
          479.1132222222225,
          479.1132222222225,
          479.1132222222225,
          479.1132222222225,
          479.1132222222225,
          479.1132222222225,
          479.1132222222225,
          479.1132222222225,
          479.1132222222225,
          479.1132222222225,
          479.1132222222225,
          479.1132222222225,
          479.2229503600947,
          479.32516287208534,
          479.43338788478127,
          479.4814878904239,
          479.54762539818256,
          479.67990041369984,
          479.7219879186371,
          479.79413792710113,
          479.8302129313331,
          479.8602754348597,
          479.91438794120774,
          479.9685004475557,
          480.02261295390366,
          480.04666295672496,
          480.08273796095693,
          480.1067879637783,
          480.1308379665996,
          480.13685046730495,
          480.16090047012625,
          480.2150129764742,
          480.2270379778849,
          480.40140049833946,
          480.40741299904477,
          480.5096255110354,
          480.65392552796334,
          480.65993802866865,
          480.6719630300793,
          480.6960130329006,
          480.702025533606,
          480.7320880371326,
          480.7320880371326,
          480.73810053783797,
          480.7441130385433,
          480.7922130441859,
          480.89442555617654,
          480.9605630639352,
          480.97860056605117,
          481.11087558156845,
          481.339350608371,
          481.4475756210669,
          481.49567562670956,
          481.5497881330575,
          481.62193814152147,
          481.62193814152147,
          481.6880756492801,
          481.73617565492276,
          481.8023131626814,
          481.8083256633867,
          481.83237566620807,
          481.8444006676187,
          481.9165506760827,
          481.9345881781987,
          482.0488256915999,
          482.15103820359053,
          482.1570507042959,
          482.21116321064386,
          482.22318821205454,
          482.2773007184025,
          482.3614757282771,
          482.44565073815176,
          482.47571324167836,
          482.51178824591034,
          482.5178007466157,
          482.56590075225836,
          482.58995075507966,
          482.61400075790095,
          482.650075762133,
          482.80640078047156,
          482.8605132868195,
          482.8905757903462,
          482.9567132981048,
          482.96873829951545,
          482.96873829951545,
          482.98677580163144,
          482.9988008030421,
          482.9988008030421,
          483.1310758185594,
          483.14310081997,
          483.161138322086,
          483.24531333196063,
          483.32347584112995,
          483.3535383446566,
          483.3595508453619,
          483.4737883587632
         ],
         "yaxis": "y"
        }
       ],
       "layout": {
        "legend": {
         "tracegroupgap": 0
        },
        "template": {
         "data": {
          "bar": [
           {
            "error_x": {
             "color": "#2a3f5f"
            },
            "error_y": {
             "color": "#2a3f5f"
            },
            "marker": {
             "line": {
              "color": "#E5ECF6",
              "width": 0.5
             },
             "pattern": {
              "fillmode": "overlay",
              "size": 10,
              "solidity": 0.2
             }
            },
            "type": "bar"
           }
          ],
          "barpolar": [
           {
            "marker": {
             "line": {
              "color": "#E5ECF6",
              "width": 0.5
             },
             "pattern": {
              "fillmode": "overlay",
              "size": 10,
              "solidity": 0.2
             }
            },
            "type": "barpolar"
           }
          ],
          "carpet": [
           {
            "aaxis": {
             "endlinecolor": "#2a3f5f",
             "gridcolor": "white",
             "linecolor": "white",
             "minorgridcolor": "white",
             "startlinecolor": "#2a3f5f"
            },
            "baxis": {
             "endlinecolor": "#2a3f5f",
             "gridcolor": "white",
             "linecolor": "white",
             "minorgridcolor": "white",
             "startlinecolor": "#2a3f5f"
            },
            "type": "carpet"
           }
          ],
          "choropleth": [
           {
            "colorbar": {
             "outlinewidth": 0,
             "ticks": ""
            },
            "type": "choropleth"
           }
          ],
          "contour": [
           {
            "colorbar": {
             "outlinewidth": 0,
             "ticks": ""
            },
            "colorscale": [
             [
              0,
              "#0d0887"
             ],
             [
              0.1111111111111111,
              "#46039f"
             ],
             [
              0.2222222222222222,
              "#7201a8"
             ],
             [
              0.3333333333333333,
              "#9c179e"
             ],
             [
              0.4444444444444444,
              "#bd3786"
             ],
             [
              0.5555555555555556,
              "#d8576b"
             ],
             [
              0.6666666666666666,
              "#ed7953"
             ],
             [
              0.7777777777777778,
              "#fb9f3a"
             ],
             [
              0.8888888888888888,
              "#fdca26"
             ],
             [
              1,
              "#f0f921"
             ]
            ],
            "type": "contour"
           }
          ],
          "contourcarpet": [
           {
            "colorbar": {
             "outlinewidth": 0,
             "ticks": ""
            },
            "type": "contourcarpet"
           }
          ],
          "heatmap": [
           {
            "colorbar": {
             "outlinewidth": 0,
             "ticks": ""
            },
            "colorscale": [
             [
              0,
              "#0d0887"
             ],
             [
              0.1111111111111111,
              "#46039f"
             ],
             [
              0.2222222222222222,
              "#7201a8"
             ],
             [
              0.3333333333333333,
              "#9c179e"
             ],
             [
              0.4444444444444444,
              "#bd3786"
             ],
             [
              0.5555555555555556,
              "#d8576b"
             ],
             [
              0.6666666666666666,
              "#ed7953"
             ],
             [
              0.7777777777777778,
              "#fb9f3a"
             ],
             [
              0.8888888888888888,
              "#fdca26"
             ],
             [
              1,
              "#f0f921"
             ]
            ],
            "type": "heatmap"
           }
          ],
          "heatmapgl": [
           {
            "colorbar": {
             "outlinewidth": 0,
             "ticks": ""
            },
            "colorscale": [
             [
              0,
              "#0d0887"
             ],
             [
              0.1111111111111111,
              "#46039f"
             ],
             [
              0.2222222222222222,
              "#7201a8"
             ],
             [
              0.3333333333333333,
              "#9c179e"
             ],
             [
              0.4444444444444444,
              "#bd3786"
             ],
             [
              0.5555555555555556,
              "#d8576b"
             ],
             [
              0.6666666666666666,
              "#ed7953"
             ],
             [
              0.7777777777777778,
              "#fb9f3a"
             ],
             [
              0.8888888888888888,
              "#fdca26"
             ],
             [
              1,
              "#f0f921"
             ]
            ],
            "type": "heatmapgl"
           }
          ],
          "histogram": [
           {
            "marker": {
             "pattern": {
              "fillmode": "overlay",
              "size": 10,
              "solidity": 0.2
             }
            },
            "type": "histogram"
           }
          ],
          "histogram2d": [
           {
            "colorbar": {
             "outlinewidth": 0,
             "ticks": ""
            },
            "colorscale": [
             [
              0,
              "#0d0887"
             ],
             [
              0.1111111111111111,
              "#46039f"
             ],
             [
              0.2222222222222222,
              "#7201a8"
             ],
             [
              0.3333333333333333,
              "#9c179e"
             ],
             [
              0.4444444444444444,
              "#bd3786"
             ],
             [
              0.5555555555555556,
              "#d8576b"
             ],
             [
              0.6666666666666666,
              "#ed7953"
             ],
             [
              0.7777777777777778,
              "#fb9f3a"
             ],
             [
              0.8888888888888888,
              "#fdca26"
             ],
             [
              1,
              "#f0f921"
             ]
            ],
            "type": "histogram2d"
           }
          ],
          "histogram2dcontour": [
           {
            "colorbar": {
             "outlinewidth": 0,
             "ticks": ""
            },
            "colorscale": [
             [
              0,
              "#0d0887"
             ],
             [
              0.1111111111111111,
              "#46039f"
             ],
             [
              0.2222222222222222,
              "#7201a8"
             ],
             [
              0.3333333333333333,
              "#9c179e"
             ],
             [
              0.4444444444444444,
              "#bd3786"
             ],
             [
              0.5555555555555556,
              "#d8576b"
             ],
             [
              0.6666666666666666,
              "#ed7953"
             ],
             [
              0.7777777777777778,
              "#fb9f3a"
             ],
             [
              0.8888888888888888,
              "#fdca26"
             ],
             [
              1,
              "#f0f921"
             ]
            ],
            "type": "histogram2dcontour"
           }
          ],
          "mesh3d": [
           {
            "colorbar": {
             "outlinewidth": 0,
             "ticks": ""
            },
            "type": "mesh3d"
           }
          ],
          "parcoords": [
           {
            "line": {
             "colorbar": {
              "outlinewidth": 0,
              "ticks": ""
             }
            },
            "type": "parcoords"
           }
          ],
          "pie": [
           {
            "automargin": true,
            "type": "pie"
           }
          ],
          "scatter": [
           {
            "fillpattern": {
             "fillmode": "overlay",
             "size": 10,
             "solidity": 0.2
            },
            "type": "scatter"
           }
          ],
          "scatter3d": [
           {
            "line": {
             "colorbar": {
              "outlinewidth": 0,
              "ticks": ""
             }
            },
            "marker": {
             "colorbar": {
              "outlinewidth": 0,
              "ticks": ""
             }
            },
            "type": "scatter3d"
           }
          ],
          "scattercarpet": [
           {
            "marker": {
             "colorbar": {
              "outlinewidth": 0,
              "ticks": ""
             }
            },
            "type": "scattercarpet"
           }
          ],
          "scattergeo": [
           {
            "marker": {
             "colorbar": {
              "outlinewidth": 0,
              "ticks": ""
             }
            },
            "type": "scattergeo"
           }
          ],
          "scattergl": [
           {
            "marker": {
             "colorbar": {
              "outlinewidth": 0,
              "ticks": ""
             }
            },
            "type": "scattergl"
           }
          ],
          "scattermapbox": [
           {
            "marker": {
             "colorbar": {
              "outlinewidth": 0,
              "ticks": ""
             }
            },
            "type": "scattermapbox"
           }
          ],
          "scatterpolar": [
           {
            "marker": {
             "colorbar": {
              "outlinewidth": 0,
              "ticks": ""
             }
            },
            "type": "scatterpolar"
           }
          ],
          "scatterpolargl": [
           {
            "marker": {
             "colorbar": {
              "outlinewidth": 0,
              "ticks": ""
             }
            },
            "type": "scatterpolargl"
           }
          ],
          "scatterternary": [
           {
            "marker": {
             "colorbar": {
              "outlinewidth": 0,
              "ticks": ""
             }
            },
            "type": "scatterternary"
           }
          ],
          "surface": [
           {
            "colorbar": {
             "outlinewidth": 0,
             "ticks": ""
            },
            "colorscale": [
             [
              0,
              "#0d0887"
             ],
             [
              0.1111111111111111,
              "#46039f"
             ],
             [
              0.2222222222222222,
              "#7201a8"
             ],
             [
              0.3333333333333333,
              "#9c179e"
             ],
             [
              0.4444444444444444,
              "#bd3786"
             ],
             [
              0.5555555555555556,
              "#d8576b"
             ],
             [
              0.6666666666666666,
              "#ed7953"
             ],
             [
              0.7777777777777778,
              "#fb9f3a"
             ],
             [
              0.8888888888888888,
              "#fdca26"
             ],
             [
              1,
              "#f0f921"
             ]
            ],
            "type": "surface"
           }
          ],
          "table": [
           {
            "cells": {
             "fill": {
              "color": "#EBF0F8"
             },
             "line": {
              "color": "white"
             }
            },
            "header": {
             "fill": {
              "color": "#C8D4E3"
             },
             "line": {
              "color": "white"
             }
            },
            "type": "table"
           }
          ]
         },
         "layout": {
          "annotationdefaults": {
           "arrowcolor": "#2a3f5f",
           "arrowhead": 0,
           "arrowwidth": 1
          },
          "autotypenumbers": "strict",
          "coloraxis": {
           "colorbar": {
            "outlinewidth": 0,
            "ticks": ""
           }
          },
          "colorscale": {
           "diverging": [
            [
             0,
             "#8e0152"
            ],
            [
             0.1,
             "#c51b7d"
            ],
            [
             0.2,
             "#de77ae"
            ],
            [
             0.3,
             "#f1b6da"
            ],
            [
             0.4,
             "#fde0ef"
            ],
            [
             0.5,
             "#f7f7f7"
            ],
            [
             0.6,
             "#e6f5d0"
            ],
            [
             0.7,
             "#b8e186"
            ],
            [
             0.8,
             "#7fbc41"
            ],
            [
             0.9,
             "#4d9221"
            ],
            [
             1,
             "#276419"
            ]
           ],
           "sequential": [
            [
             0,
             "#0d0887"
            ],
            [
             0.1111111111111111,
             "#46039f"
            ],
            [
             0.2222222222222222,
             "#7201a8"
            ],
            [
             0.3333333333333333,
             "#9c179e"
            ],
            [
             0.4444444444444444,
             "#bd3786"
            ],
            [
             0.5555555555555556,
             "#d8576b"
            ],
            [
             0.6666666666666666,
             "#ed7953"
            ],
            [
             0.7777777777777778,
             "#fb9f3a"
            ],
            [
             0.8888888888888888,
             "#fdca26"
            ],
            [
             1,
             "#f0f921"
            ]
           ],
           "sequentialminus": [
            [
             0,
             "#0d0887"
            ],
            [
             0.1111111111111111,
             "#46039f"
            ],
            [
             0.2222222222222222,
             "#7201a8"
            ],
            [
             0.3333333333333333,
             "#9c179e"
            ],
            [
             0.4444444444444444,
             "#bd3786"
            ],
            [
             0.5555555555555556,
             "#d8576b"
            ],
            [
             0.6666666666666666,
             "#ed7953"
            ],
            [
             0.7777777777777778,
             "#fb9f3a"
            ],
            [
             0.8888888888888888,
             "#fdca26"
            ],
            [
             1,
             "#f0f921"
            ]
           ]
          },
          "colorway": [
           "#636efa",
           "#EF553B",
           "#00cc96",
           "#ab63fa",
           "#FFA15A",
           "#19d3f3",
           "#FF6692",
           "#B6E880",
           "#FF97FF",
           "#FECB52"
          ],
          "font": {
           "color": "#2a3f5f"
          },
          "geo": {
           "bgcolor": "white",
           "lakecolor": "white",
           "landcolor": "#E5ECF6",
           "showlakes": true,
           "showland": true,
           "subunitcolor": "white"
          },
          "hoverlabel": {
           "align": "left"
          },
          "hovermode": "closest",
          "mapbox": {
           "style": "light"
          },
          "paper_bgcolor": "white",
          "plot_bgcolor": "#E5ECF6",
          "polar": {
           "angularaxis": {
            "gridcolor": "white",
            "linecolor": "white",
            "ticks": ""
           },
           "bgcolor": "#E5ECF6",
           "radialaxis": {
            "gridcolor": "white",
            "linecolor": "white",
            "ticks": ""
           }
          },
          "scene": {
           "xaxis": {
            "backgroundcolor": "#E5ECF6",
            "gridcolor": "white",
            "gridwidth": 2,
            "linecolor": "white",
            "showbackground": true,
            "ticks": "",
            "zerolinecolor": "white"
           },
           "yaxis": {
            "backgroundcolor": "#E5ECF6",
            "gridcolor": "white",
            "gridwidth": 2,
            "linecolor": "white",
            "showbackground": true,
            "ticks": "",
            "zerolinecolor": "white"
           },
           "zaxis": {
            "backgroundcolor": "#E5ECF6",
            "gridcolor": "white",
            "gridwidth": 2,
            "linecolor": "white",
            "showbackground": true,
            "ticks": "",
            "zerolinecolor": "white"
           }
          },
          "shapedefaults": {
           "line": {
            "color": "#2a3f5f"
           }
          },
          "ternary": {
           "aaxis": {
            "gridcolor": "white",
            "linecolor": "white",
            "ticks": ""
           },
           "baxis": {
            "gridcolor": "white",
            "linecolor": "white",
            "ticks": ""
           },
           "bgcolor": "#E5ECF6",
           "caxis": {
            "gridcolor": "white",
            "linecolor": "white",
            "ticks": ""
           }
          },
          "title": {
           "x": 0.05
          },
          "xaxis": {
           "automargin": true,
           "gridcolor": "white",
           "linecolor": "white",
           "ticks": "",
           "title": {
            "standoff": 15
           },
           "zerolinecolor": "white",
           "zerolinewidth": 2
          },
          "yaxis": {
           "automargin": true,
           "gridcolor": "white",
           "linecolor": "white",
           "ticks": "",
           "title": {
            "standoff": 15
           },
           "zerolinecolor": "white",
           "zerolinewidth": 2
          }
         }
        },
        "title": {
         "text": "Impact of Discount on Sales Amount"
        },
        "xaxis": {
         "anchor": "y",
         "domain": [
          0,
          1
         ],
         "title": {
          "text": "Discount (%)"
         }
        },
        "yaxis": {
         "anchor": "x",
         "domain": [
          0,
          1
         ],
         "title": {
          "text": "Sales Amount ($)"
         }
        }
       }
      }
     },
     "metadata": {},
     "output_type": "display_data"
    }
   ],
   "source": [
    "# Scatter plot with trend line for discount vs. sales amount\n",
    "fig = px.scatter(data, x='Discount Applied', y='Sales Amount', trendline='ols',\n",
    "                 title=\"Impact of Discount on Sales Amount\",\n",
    "                 labels={'Discount Applied': 'Discount (%)', 'Sales Amount': 'Sales Amount ($)'})\n",
    "\n",
    "fig.update_traces(marker=dict(size=8, opacity=0.7))\n",
    "fig.show()\n"
   ]
  },
  {
   "cell_type": "code",
   "execution_count": 22,
   "metadata": {},
   "outputs": [
    {
     "data": {
      "application/vnd.plotly.v1+json": {
       "config": {
        "plotlyServerURL": "https://plot.ly"
       },
       "data": [
        {
         "alignmentgroup": "True",
         "hovertemplate": "Store=%{y}<br>animation_frame=2024-11-01<br>Total Sales ($)=%{x}<extra></extra>",
         "legendgroup": "S002",
         "marker": {
          "color": "#636efa",
          "pattern": {
           "shape": ""
          }
         },
         "name": "S002",
         "offsetgroup": "S002",
         "orientation": "h",
         "showlegend": true,
         "textposition": "auto",
         "type": "bar",
         "x": [
          1957.1664444444446
         ],
         "xaxis": "x",
         "y": [
          "S002"
         ],
         "yaxis": "y"
        },
        {
         "alignmentgroup": "True",
         "hovertemplate": "Store=%{y}<br>animation_frame=2024-11-01<br>Total Sales ($)=%{x}<extra></extra>",
         "legendgroup": "S003",
         "marker": {
          "color": "#EF553B",
          "pattern": {
           "shape": ""
          }
         },
         "name": "S003",
         "offsetgroup": "S003",
         "orientation": "h",
         "showlegend": true,
         "textposition": "auto",
         "type": "bar",
         "x": [
          1060.62
         ],
         "xaxis": "x",
         "y": [
          "S003"
         ],
         "yaxis": "y"
        },
        {
         "alignmentgroup": "True",
         "hovertemplate": "Store=%{y}<br>animation_frame=2024-11-01<br>Total Sales ($)=%{x}<extra></extra>",
         "legendgroup": "S004",
         "marker": {
          "color": "#00cc96",
          "pattern": {
           "shape": ""
          }
         },
         "name": "S004",
         "offsetgroup": "S004",
         "orientation": "h",
         "showlegend": true,
         "textposition": "auto",
         "type": "bar",
         "x": [
          1818.26
         ],
         "xaxis": "x",
         "y": [
          "S004"
         ],
         "yaxis": "y"
        }
       ],
       "frames": [
        {
         "data": [
          {
           "alignmentgroup": "True",
           "hovertemplate": "Store=%{y}<br>animation_frame=2024-11-01<br>Total Sales ($)=%{x}<extra></extra>",
           "legendgroup": "S002",
           "marker": {
            "color": "#636efa",
            "pattern": {
             "shape": ""
            }
           },
           "name": "S002",
           "offsetgroup": "S002",
           "orientation": "h",
           "showlegend": true,
           "textposition": "auto",
           "type": "bar",
           "x": [
            1957.1664444444446
           ],
           "xaxis": "x",
           "y": [
            "S002"
           ],
           "yaxis": "y"
          },
          {
           "alignmentgroup": "True",
           "hovertemplate": "Store=%{y}<br>animation_frame=2024-11-01<br>Total Sales ($)=%{x}<extra></extra>",
           "legendgroup": "S003",
           "marker": {
            "color": "#EF553B",
            "pattern": {
             "shape": ""
            }
           },
           "name": "S003",
           "offsetgroup": "S003",
           "orientation": "h",
           "showlegend": true,
           "textposition": "auto",
           "type": "bar",
           "x": [
            1060.62
           ],
           "xaxis": "x",
           "y": [
            "S003"
           ],
           "yaxis": "y"
          },
          {
           "alignmentgroup": "True",
           "hovertemplate": "Store=%{y}<br>animation_frame=2024-11-01<br>Total Sales ($)=%{x}<extra></extra>",
           "legendgroup": "S004",
           "marker": {
            "color": "#00cc96",
            "pattern": {
             "shape": ""
            }
           },
           "name": "S004",
           "offsetgroup": "S004",
           "orientation": "h",
           "showlegend": true,
           "textposition": "auto",
           "type": "bar",
           "x": [
            1818.26
           ],
           "xaxis": "x",
           "y": [
            "S004"
           ],
           "yaxis": "y"
          }
         ],
         "name": "2024-11-01"
        },
        {
         "data": [
          {
           "alignmentgroup": "True",
           "hovertemplate": "Store=%{y}<br>animation_frame=2024-11-02<br>Total Sales ($)=%{x}<extra></extra>",
           "legendgroup": "S002",
           "marker": {
            "color": "#636efa",
            "pattern": {
             "shape": ""
            }
           },
           "name": "S002",
           "offsetgroup": "S002",
           "orientation": "h",
           "showlegend": true,
           "textposition": "auto",
           "type": "bar",
           "x": [
            131.14
           ],
           "xaxis": "x",
           "y": [
            "S002"
           ],
           "yaxis": "y"
          },
          {
           "alignmentgroup": "True",
           "hovertemplate": "Store=%{y}<br>animation_frame=2024-11-02<br>Total Sales ($)=%{x}<extra></extra>",
           "legendgroup": "S003",
           "marker": {
            "color": "#EF553B",
            "pattern": {
             "shape": ""
            }
           },
           "name": "S003",
           "offsetgroup": "S003",
           "orientation": "h",
           "showlegend": true,
           "textposition": "auto",
           "type": "bar",
           "x": [
            1784.19
           ],
           "xaxis": "x",
           "y": [
            "S003"
           ],
           "yaxis": "y"
          },
          {
           "alignmentgroup": "True",
           "hovertemplate": "Store=%{y}<br>animation_frame=2024-11-02<br>Total Sales ($)=%{x}<extra></extra>",
           "legendgroup": "S001",
           "marker": {
            "color": "#ab63fa",
            "pattern": {
             "shape": ""
            }
           },
           "name": "S001",
           "offsetgroup": "S001",
           "orientation": "h",
           "showlegend": true,
           "textposition": "auto",
           "type": "bar",
           "x": [
            1243.2
           ],
           "xaxis": "x",
           "y": [
            "S001"
           ],
           "yaxis": "y"
          }
         ],
         "name": "2024-11-02"
        },
        {
         "data": [
          {
           "alignmentgroup": "True",
           "hovertemplate": "Store=%{y}<br>animation_frame=2024-11-03<br>Total Sales ($)=%{x}<extra></extra>",
           "legendgroup": "S002",
           "marker": {
            "color": "#636efa",
            "pattern": {
             "shape": ""
            }
           },
           "name": "S002",
           "offsetgroup": "S002",
           "orientation": "h",
           "showlegend": true,
           "textposition": "auto",
           "type": "bar",
           "x": [
            541.17
           ],
           "xaxis": "x",
           "y": [
            "S002"
           ],
           "yaxis": "y"
          },
          {
           "alignmentgroup": "True",
           "hovertemplate": "Store=%{y}<br>animation_frame=2024-11-03<br>Total Sales ($)=%{x}<extra></extra>",
           "legendgroup": "S004",
           "marker": {
            "color": "#00cc96",
            "pattern": {
             "shape": ""
            }
           },
           "name": "S004",
           "offsetgroup": "S004",
           "orientation": "h",
           "showlegend": true,
           "textposition": "auto",
           "type": "bar",
           "x": [
            723.34
           ],
           "xaxis": "x",
           "y": [
            "S004"
           ],
           "yaxis": "y"
          },
          {
           "alignmentgroup": "True",
           "hovertemplate": "Store=%{y}<br>animation_frame=2024-11-03<br>Total Sales ($)=%{x}<extra></extra>",
           "legendgroup": "S001",
           "marker": {
            "color": "#ab63fa",
            "pattern": {
             "shape": ""
            }
           },
           "name": "S001",
           "offsetgroup": "S001",
           "orientation": "h",
           "showlegend": true,
           "textposition": "auto",
           "type": "bar",
           "x": [
            483.71
           ],
           "xaxis": "x",
           "y": [
            "S001"
           ],
           "yaxis": "y"
          }
         ],
         "name": "2024-11-03"
        },
        {
         "data": [
          {
           "alignmentgroup": "True",
           "hovertemplate": "Store=%{y}<br>animation_frame=2024-11-04<br>Total Sales ($)=%{x}<extra></extra>",
           "legendgroup": "S002",
           "marker": {
            "color": "#636efa",
            "pattern": {
             "shape": ""
            }
           },
           "name": "S002",
           "offsetgroup": "S002",
           "orientation": "h",
           "showlegend": true,
           "textposition": "auto",
           "type": "bar",
           "x": [
            702.63
           ],
           "xaxis": "x",
           "y": [
            "S002"
           ],
           "yaxis": "y"
          },
          {
           "alignmentgroup": "True",
           "hovertemplate": "Store=%{y}<br>animation_frame=2024-11-04<br>Total Sales ($)=%{x}<extra></extra>",
           "legendgroup": "S003",
           "marker": {
            "color": "#EF553B",
            "pattern": {
             "shape": ""
            }
           },
           "name": "S003",
           "offsetgroup": "S003",
           "orientation": "h",
           "showlegend": true,
           "textposition": "auto",
           "type": "bar",
           "x": [
            964.93
           ],
           "xaxis": "x",
           "y": [
            "S003"
           ],
           "yaxis": "y"
          },
          {
           "alignmentgroup": "True",
           "hovertemplate": "Store=%{y}<br>animation_frame=2024-11-04<br>Total Sales ($)=%{x}<extra></extra>",
           "legendgroup": "S004",
           "marker": {
            "color": "#00cc96",
            "pattern": {
             "shape": ""
            }
           },
           "name": "S004",
           "offsetgroup": "S004",
           "orientation": "h",
           "showlegend": true,
           "textposition": "auto",
           "type": "bar",
           "x": [
            479.11322222222225
           ],
           "xaxis": "x",
           "y": [
            "S004"
           ],
           "yaxis": "y"
          },
          {
           "alignmentgroup": "True",
           "hovertemplate": "Store=%{y}<br>animation_frame=2024-11-04<br>Total Sales ($)=%{x}<extra></extra>",
           "legendgroup": "S001",
           "marker": {
            "color": "#ab63fa",
            "pattern": {
             "shape": ""
            }
           },
           "name": "S001",
           "offsetgroup": "S001",
           "orientation": "h",
           "showlegend": true,
           "textposition": "auto",
           "type": "bar",
           "x": [
            904.12
           ],
           "xaxis": "x",
           "y": [
            "S001"
           ],
           "yaxis": "y"
          }
         ],
         "name": "2024-11-04"
        },
        {
         "data": [
          {
           "alignmentgroup": "True",
           "hovertemplate": "Store=%{y}<br>animation_frame=2024-11-05<br>Total Sales ($)=%{x}<extra></extra>",
           "legendgroup": "S002",
           "marker": {
            "color": "#636efa",
            "pattern": {
             "shape": ""
            }
           },
           "name": "S002",
           "offsetgroup": "S002",
           "orientation": "h",
           "showlegend": true,
           "textposition": "auto",
           "type": "bar",
           "x": [
            678.27
           ],
           "xaxis": "x",
           "y": [
            "S002"
           ],
           "yaxis": "y"
          },
          {
           "alignmentgroup": "True",
           "hovertemplate": "Store=%{y}<br>animation_frame=2024-11-05<br>Total Sales ($)=%{x}<extra></extra>",
           "legendgroup": "S003",
           "marker": {
            "color": "#EF553B",
            "pattern": {
             "shape": ""
            }
           },
           "name": "S003",
           "offsetgroup": "S003",
           "orientation": "h",
           "showlegend": true,
           "textposition": "auto",
           "type": "bar",
           "x": [
            905.5
           ],
           "xaxis": "x",
           "y": [
            "S003"
           ],
           "yaxis": "y"
          },
          {
           "alignmentgroup": "True",
           "hovertemplate": "Store=%{y}<br>animation_frame=2024-11-05<br>Total Sales ($)=%{x}<extra></extra>",
           "legendgroup": "S004",
           "marker": {
            "color": "#00cc96",
            "pattern": {
             "shape": ""
            }
           },
           "name": "S004",
           "offsetgroup": "S004",
           "orientation": "h",
           "showlegend": true,
           "textposition": "auto",
           "type": "bar",
           "x": [
            2925.41
           ],
           "xaxis": "x",
           "y": [
            "S004"
           ],
           "yaxis": "y"
          },
          {
           "alignmentgroup": "True",
           "hovertemplate": "Store=%{y}<br>animation_frame=2024-11-05<br>Total Sales ($)=%{x}<extra></extra>",
           "legendgroup": "S001",
           "marker": {
            "color": "#ab63fa",
            "pattern": {
             "shape": ""
            }
           },
           "name": "S001",
           "offsetgroup": "S001",
           "orientation": "h",
           "showlegend": true,
           "textposition": "auto",
           "type": "bar",
           "x": [
            415.67
           ],
           "xaxis": "x",
           "y": [
            "S001"
           ],
           "yaxis": "y"
          }
         ],
         "name": "2024-11-05"
        },
        {
         "data": [
          {
           "alignmentgroup": "True",
           "hovertemplate": "Store=%{y}<br>animation_frame=2024-11-06<br>Total Sales ($)=%{x}<extra></extra>",
           "legendgroup": "S002",
           "marker": {
            "color": "#636efa",
            "pattern": {
             "shape": ""
            }
           },
           "name": "S002",
           "offsetgroup": "S002",
           "orientation": "h",
           "showlegend": true,
           "textposition": "auto",
           "type": "bar",
           "x": [
            528.76
           ],
           "xaxis": "x",
           "y": [
            "S002"
           ],
           "yaxis": "y"
          },
          {
           "alignmentgroup": "True",
           "hovertemplate": "Store=%{y}<br>animation_frame=2024-11-06<br>Total Sales ($)=%{x}<extra></extra>",
           "legendgroup": "S003",
           "marker": {
            "color": "#EF553B",
            "pattern": {
             "shape": ""
            }
           },
           "name": "S003",
           "offsetgroup": "S003",
           "orientation": "h",
           "showlegend": true,
           "textposition": "auto",
           "type": "bar",
           "x": [
            963.51
           ],
           "xaxis": "x",
           "y": [
            "S003"
           ],
           "yaxis": "y"
          },
          {
           "alignmentgroup": "True",
           "hovertemplate": "Store=%{y}<br>animation_frame=2024-11-06<br>Total Sales ($)=%{x}<extra></extra>",
           "legendgroup": "S004",
           "marker": {
            "color": "#00cc96",
            "pattern": {
             "shape": ""
            }
           },
           "name": "S004",
           "offsetgroup": "S004",
           "orientation": "h",
           "showlegend": true,
           "textposition": "auto",
           "type": "bar",
           "x": [
            479.11322222222225
           ],
           "xaxis": "x",
           "y": [
            "S004"
           ],
           "yaxis": "y"
          }
         ],
         "name": "2024-11-06"
        },
        {
         "data": [
          {
           "alignmentgroup": "True",
           "hovertemplate": "Store=%{y}<br>animation_frame=2024-11-07<br>Total Sales ($)=%{x}<extra></extra>",
           "legendgroup": "S002",
           "marker": {
            "color": "#636efa",
            "pattern": {
             "shape": ""
            }
           },
           "name": "S002",
           "offsetgroup": "S002",
           "orientation": "h",
           "showlegend": true,
           "textposition": "auto",
           "type": "bar",
           "x": [
            1923.4099999999999
           ],
           "xaxis": "x",
           "y": [
            "S002"
           ],
           "yaxis": "y"
          },
          {
           "alignmentgroup": "True",
           "hovertemplate": "Store=%{y}<br>animation_frame=2024-11-07<br>Total Sales ($)=%{x}<extra></extra>",
           "legendgroup": "S003",
           "marker": {
            "color": "#EF553B",
            "pattern": {
             "shape": ""
            }
           },
           "name": "S003",
           "offsetgroup": "S003",
           "orientation": "h",
           "showlegend": true,
           "textposition": "auto",
           "type": "bar",
           "x": [
            575.49
           ],
           "xaxis": "x",
           "y": [
            "S003"
           ],
           "yaxis": "y"
          },
          {
           "alignmentgroup": "True",
           "hovertemplate": "Store=%{y}<br>animation_frame=2024-11-07<br>Total Sales ($)=%{x}<extra></extra>",
           "legendgroup": "S004",
           "marker": {
            "color": "#00cc96",
            "pattern": {
             "shape": ""
            }
           },
           "name": "S004",
           "offsetgroup": "S004",
           "orientation": "h",
           "showlegend": true,
           "textposition": "auto",
           "type": "bar",
           "x": [
            1506.8632222222222
           ],
           "xaxis": "x",
           "y": [
            "S004"
           ],
           "yaxis": "y"
          },
          {
           "alignmentgroup": "True",
           "hovertemplate": "Store=%{y}<br>animation_frame=2024-11-07<br>Total Sales ($)=%{x}<extra></extra>",
           "legendgroup": "S001",
           "marker": {
            "color": "#ab63fa",
            "pattern": {
             "shape": ""
            }
           },
           "name": "S001",
           "offsetgroup": "S001",
           "orientation": "h",
           "showlegend": true,
           "textposition": "auto",
           "type": "bar",
           "x": [
            178.58
           ],
           "xaxis": "x",
           "y": [
            "S001"
           ],
           "yaxis": "y"
          }
         ],
         "name": "2024-11-07"
        },
        {
         "data": [
          {
           "alignmentgroup": "True",
           "hovertemplate": "Store=%{y}<br>animation_frame=2024-11-08<br>Total Sales ($)=%{x}<extra></extra>",
           "legendgroup": "S002",
           "marker": {
            "color": "#636efa",
            "pattern": {
             "shape": ""
            }
           },
           "name": "S002",
           "offsetgroup": "S002",
           "orientation": "h",
           "showlegend": true,
           "textposition": "auto",
           "type": "bar",
           "x": [
            432.97999999999996
           ],
           "xaxis": "x",
           "y": [
            "S002"
           ],
           "yaxis": "y"
          },
          {
           "alignmentgroup": "True",
           "hovertemplate": "Store=%{y}<br>animation_frame=2024-11-08<br>Total Sales ($)=%{x}<extra></extra>",
           "legendgroup": "S003",
           "marker": {
            "color": "#EF553B",
            "pattern": {
             "shape": ""
            }
           },
           "name": "S003",
           "offsetgroup": "S003",
           "orientation": "h",
           "showlegend": true,
           "textposition": "auto",
           "type": "bar",
           "x": [
            981.3600000000001
           ],
           "xaxis": "x",
           "y": [
            "S003"
           ],
           "yaxis": "y"
          },
          {
           "alignmentgroup": "True",
           "hovertemplate": "Store=%{y}<br>animation_frame=2024-11-08<br>Total Sales ($)=%{x}<extra></extra>",
           "legendgroup": "S004",
           "marker": {
            "color": "#00cc96",
            "pattern": {
             "shape": ""
            }
           },
           "name": "S004",
           "offsetgroup": "S004",
           "orientation": "h",
           "showlegend": true,
           "textposition": "auto",
           "type": "bar",
           "x": [
            296.93
           ],
           "xaxis": "x",
           "y": [
            "S004"
           ],
           "yaxis": "y"
          }
         ],
         "name": "2024-11-08"
        },
        {
         "data": [
          {
           "alignmentgroup": "True",
           "hovertemplate": "Store=%{y}<br>animation_frame=2024-11-09<br>Total Sales ($)=%{x}<extra></extra>",
           "legendgroup": "S002",
           "marker": {
            "color": "#636efa",
            "pattern": {
             "shape": ""
            }
           },
           "name": "S002",
           "offsetgroup": "S002",
           "orientation": "h",
           "showlegend": true,
           "textposition": "auto",
           "type": "bar",
           "x": [
            1069.16
           ],
           "xaxis": "x",
           "y": [
            "S002"
           ],
           "yaxis": "y"
          },
          {
           "alignmentgroup": "True",
           "hovertemplate": "Store=%{y}<br>animation_frame=2024-11-09<br>Total Sales ($)=%{x}<extra></extra>",
           "legendgroup": "S003",
           "marker": {
            "color": "#EF553B",
            "pattern": {
             "shape": ""
            }
           },
           "name": "S003",
           "offsetgroup": "S003",
           "orientation": "h",
           "showlegend": true,
           "textposition": "auto",
           "type": "bar",
           "x": [
            929.16
           ],
           "xaxis": "x",
           "y": [
            "S003"
           ],
           "yaxis": "y"
          },
          {
           "alignmentgroup": "True",
           "hovertemplate": "Store=%{y}<br>animation_frame=2024-11-09<br>Total Sales ($)=%{x}<extra></extra>",
           "legendgroup": "S001",
           "marker": {
            "color": "#ab63fa",
            "pattern": {
             "shape": ""
            }
           },
           "name": "S001",
           "offsetgroup": "S001",
           "orientation": "h",
           "showlegend": true,
           "textposition": "auto",
           "type": "bar",
           "x": [
            1311.9032222222222
           ],
           "xaxis": "x",
           "y": [
            "S001"
           ],
           "yaxis": "y"
          }
         ],
         "name": "2024-11-09"
        },
        {
         "data": [
          {
           "alignmentgroup": "True",
           "hovertemplate": "Store=%{y}<br>animation_frame=2024-11-10<br>Total Sales ($)=%{x}<extra></extra>",
           "legendgroup": "S002",
           "marker": {
            "color": "#636efa",
            "pattern": {
             "shape": ""
            }
           },
           "name": "S002",
           "offsetgroup": "S002",
           "orientation": "h",
           "showlegend": true,
           "textposition": "auto",
           "type": "bar",
           "x": [
            477.6
           ],
           "xaxis": "x",
           "y": [
            "S002"
           ],
           "yaxis": "y"
          },
          {
           "alignmentgroup": "True",
           "hovertemplate": "Store=%{y}<br>animation_frame=2024-11-10<br>Total Sales ($)=%{x}<extra></extra>",
           "legendgroup": "S003",
           "marker": {
            "color": "#EF553B",
            "pattern": {
             "shape": ""
            }
           },
           "name": "S003",
           "offsetgroup": "S003",
           "orientation": "h",
           "showlegend": true,
           "textposition": "auto",
           "type": "bar",
           "x": [
            135.67
           ],
           "xaxis": "x",
           "y": [
            "S003"
           ],
           "yaxis": "y"
          },
          {
           "alignmentgroup": "True",
           "hovertemplate": "Store=%{y}<br>animation_frame=2024-11-10<br>Total Sales ($)=%{x}<extra></extra>",
           "legendgroup": "S004",
           "marker": {
            "color": "#00cc96",
            "pattern": {
             "shape": ""
            }
           },
           "name": "S004",
           "offsetgroup": "S004",
           "orientation": "h",
           "showlegend": true,
           "textposition": "auto",
           "type": "bar",
           "x": [
            1173.23
           ],
           "xaxis": "x",
           "y": [
            "S004"
           ],
           "yaxis": "y"
          },
          {
           "alignmentgroup": "True",
           "hovertemplate": "Store=%{y}<br>animation_frame=2024-11-10<br>Total Sales ($)=%{x}<extra></extra>",
           "legendgroup": "S001",
           "marker": {
            "color": "#ab63fa",
            "pattern": {
             "shape": ""
            }
           },
           "name": "S001",
           "offsetgroup": "S001",
           "orientation": "h",
           "showlegend": true,
           "textposition": "auto",
           "type": "bar",
           "x": [
            671.42
           ],
           "xaxis": "x",
           "y": [
            "S001"
           ],
           "yaxis": "y"
          }
         ],
         "name": "2024-11-10"
        },
        {
         "data": [
          {
           "alignmentgroup": "True",
           "hovertemplate": "Store=%{y}<br>animation_frame=2024-11-11<br>Total Sales ($)=%{x}<extra></extra>",
           "legendgroup": "S002",
           "marker": {
            "color": "#636efa",
            "pattern": {
             "shape": ""
            }
           },
           "name": "S002",
           "offsetgroup": "S002",
           "orientation": "h",
           "showlegend": true,
           "textposition": "auto",
           "type": "bar",
           "x": [
            40.52
           ],
           "xaxis": "x",
           "y": [
            "S002"
           ],
           "yaxis": "y"
          },
          {
           "alignmentgroup": "True",
           "hovertemplate": "Store=%{y}<br>animation_frame=2024-11-11<br>Total Sales ($)=%{x}<extra></extra>",
           "legendgroup": "S003",
           "marker": {
            "color": "#EF553B",
            "pattern": {
             "shape": ""
            }
           },
           "name": "S003",
           "offsetgroup": "S003",
           "orientation": "h",
           "showlegend": true,
           "textposition": "auto",
           "type": "bar",
           "x": [
            788.55
           ],
           "xaxis": "x",
           "y": [
            "S003"
           ],
           "yaxis": "y"
          },
          {
           "alignmentgroup": "True",
           "hovertemplate": "Store=%{y}<br>animation_frame=2024-11-11<br>Total Sales ($)=%{x}<extra></extra>",
           "legendgroup": "S004",
           "marker": {
            "color": "#00cc96",
            "pattern": {
             "shape": ""
            }
           },
           "name": "S004",
           "offsetgroup": "S004",
           "orientation": "h",
           "showlegend": true,
           "textposition": "auto",
           "type": "bar",
           "x": [
            418.69
           ],
           "xaxis": "x",
           "y": [
            "S004"
           ],
           "yaxis": "y"
          },
          {
           "alignmentgroup": "True",
           "hovertemplate": "Store=%{y}<br>animation_frame=2024-11-11<br>Total Sales ($)=%{x}<extra></extra>",
           "legendgroup": "S001",
           "marker": {
            "color": "#ab63fa",
            "pattern": {
             "shape": ""
            }
           },
           "name": "S001",
           "offsetgroup": "S001",
           "orientation": "h",
           "showlegend": true,
           "textposition": "auto",
           "type": "bar",
           "x": [
            1919.93
           ],
           "xaxis": "x",
           "y": [
            "S001"
           ],
           "yaxis": "y"
          }
         ],
         "name": "2024-11-11"
        },
        {
         "data": [
          {
           "alignmentgroup": "True",
           "hovertemplate": "Store=%{y}<br>animation_frame=2024-11-12<br>Total Sales ($)=%{x}<extra></extra>",
           "legendgroup": "S002",
           "marker": {
            "color": "#636efa",
            "pattern": {
             "shape": ""
            }
           },
           "name": "S002",
           "offsetgroup": "S002",
           "orientation": "h",
           "showlegend": true,
           "textposition": "auto",
           "type": "bar",
           "x": [
            915.7
           ],
           "xaxis": "x",
           "y": [
            "S002"
           ],
           "yaxis": "y"
          },
          {
           "alignmentgroup": "True",
           "hovertemplate": "Store=%{y}<br>animation_frame=2024-11-12<br>Total Sales ($)=%{x}<extra></extra>",
           "legendgroup": "S003",
           "marker": {
            "color": "#EF553B",
            "pattern": {
             "shape": ""
            }
           },
           "name": "S003",
           "offsetgroup": "S003",
           "orientation": "h",
           "showlegend": true,
           "textposition": "auto",
           "type": "bar",
           "x": [
            891.44
           ],
           "xaxis": "x",
           "y": [
            "S003"
           ],
           "yaxis": "y"
          },
          {
           "alignmentgroup": "True",
           "hovertemplate": "Store=%{y}<br>animation_frame=2024-11-12<br>Total Sales ($)=%{x}<extra></extra>",
           "legendgroup": "S004",
           "marker": {
            "color": "#00cc96",
            "pattern": {
             "shape": ""
            }
           },
           "name": "S004",
           "offsetgroup": "S004",
           "orientation": "h",
           "showlegend": true,
           "textposition": "auto",
           "type": "bar",
           "x": [
            955.4100000000001
           ],
           "xaxis": "x",
           "y": [
            "S004"
           ],
           "yaxis": "y"
          },
          {
           "alignmentgroup": "True",
           "hovertemplate": "Store=%{y}<br>animation_frame=2024-11-12<br>Total Sales ($)=%{x}<extra></extra>",
           "legendgroup": "S001",
           "marker": {
            "color": "#ab63fa",
            "pattern": {
             "shape": ""
            }
           },
           "name": "S001",
           "offsetgroup": "S001",
           "orientation": "h",
           "showlegend": true,
           "textposition": "auto",
           "type": "bar",
           "x": [
            617.58
           ],
           "xaxis": "x",
           "y": [
            "S001"
           ],
           "yaxis": "y"
          }
         ],
         "name": "2024-11-12"
        },
        {
         "data": [
          {
           "alignmentgroup": "True",
           "hovertemplate": "Store=%{y}<br>animation_frame=2024-11-13<br>Total Sales ($)=%{x}<extra></extra>",
           "legendgroup": "S002",
           "marker": {
            "color": "#636efa",
            "pattern": {
             "shape": ""
            }
           },
           "name": "S002",
           "offsetgroup": "S002",
           "orientation": "h",
           "showlegend": true,
           "textposition": "auto",
           "type": "bar",
           "x": [
            1403.2532222222221
           ],
           "xaxis": "x",
           "y": [
            "S002"
           ],
           "yaxis": "y"
          },
          {
           "alignmentgroup": "True",
           "hovertemplate": "Store=%{y}<br>animation_frame=2024-11-13<br>Total Sales ($)=%{x}<extra></extra>",
           "legendgroup": "S003",
           "marker": {
            "color": "#EF553B",
            "pattern": {
             "shape": ""
            }
           },
           "name": "S003",
           "offsetgroup": "S003",
           "orientation": "h",
           "showlegend": true,
           "textposition": "auto",
           "type": "bar",
           "x": [
            369.31
           ],
           "xaxis": "x",
           "y": [
            "S003"
           ],
           "yaxis": "y"
          },
          {
           "alignmentgroup": "True",
           "hovertemplate": "Store=%{y}<br>animation_frame=2024-11-13<br>Total Sales ($)=%{x}<extra></extra>",
           "legendgroup": "S004",
           "marker": {
            "color": "#00cc96",
            "pattern": {
             "shape": ""
            }
           },
           "name": "S004",
           "offsetgroup": "S004",
           "orientation": "h",
           "showlegend": true,
           "textposition": "auto",
           "type": "bar",
           "x": [
            673.72
           ],
           "xaxis": "x",
           "y": [
            "S004"
           ],
           "yaxis": "y"
          },
          {
           "alignmentgroup": "True",
           "hovertemplate": "Store=%{y}<br>animation_frame=2024-11-13<br>Total Sales ($)=%{x}<extra></extra>",
           "legendgroup": "S001",
           "marker": {
            "color": "#ab63fa",
            "pattern": {
             "shape": ""
            }
           },
           "name": "S001",
           "offsetgroup": "S001",
           "orientation": "h",
           "showlegend": true,
           "textposition": "auto",
           "type": "bar",
           "x": [
            584.4
           ],
           "xaxis": "x",
           "y": [
            "S001"
           ],
           "yaxis": "y"
          }
         ],
         "name": "2024-11-13"
        },
        {
         "data": [
          {
           "alignmentgroup": "True",
           "hovertemplate": "Store=%{y}<br>animation_frame=2024-11-14<br>Total Sales ($)=%{x}<extra></extra>",
           "legendgroup": "S002",
           "marker": {
            "color": "#636efa",
            "pattern": {
             "shape": ""
            }
           },
           "name": "S002",
           "offsetgroup": "S002",
           "orientation": "h",
           "showlegend": true,
           "textposition": "auto",
           "type": "bar",
           "x": [
            1233.2632222222223
           ],
           "xaxis": "x",
           "y": [
            "S002"
           ],
           "yaxis": "y"
          },
          {
           "alignmentgroup": "True",
           "hovertemplate": "Store=%{y}<br>animation_frame=2024-11-14<br>Total Sales ($)=%{x}<extra></extra>",
           "legendgroup": "S003",
           "marker": {
            "color": "#EF553B",
            "pattern": {
             "shape": ""
            }
           },
           "name": "S003",
           "offsetgroup": "S003",
           "orientation": "h",
           "showlegend": true,
           "textposition": "auto",
           "type": "bar",
           "x": [
            1459.35
           ],
           "xaxis": "x",
           "y": [
            "S003"
           ],
           "yaxis": "y"
          },
          {
           "alignmentgroup": "True",
           "hovertemplate": "Store=%{y}<br>animation_frame=2024-11-14<br>Total Sales ($)=%{x}<extra></extra>",
           "legendgroup": "S001",
           "marker": {
            "color": "#ab63fa",
            "pattern": {
             "shape": ""
            }
           },
           "name": "S001",
           "offsetgroup": "S001",
           "orientation": "h",
           "showlegend": true,
           "textposition": "auto",
           "type": "bar",
           "x": [
            1145.0432222222223
           ],
           "xaxis": "x",
           "y": [
            "S001"
           ],
           "yaxis": "y"
          }
         ],
         "name": "2024-11-14"
        },
        {
         "data": [
          {
           "alignmentgroup": "True",
           "hovertemplate": "Store=%{y}<br>animation_frame=2024-11-15<br>Total Sales ($)=%{x}<extra></extra>",
           "legendgroup": "S002",
           "marker": {
            "color": "#636efa",
            "pattern": {
             "shape": ""
            }
           },
           "name": "S002",
           "offsetgroup": "S002",
           "orientation": "h",
           "showlegend": true,
           "textposition": "auto",
           "type": "bar",
           "x": [
            1613.54
           ],
           "xaxis": "x",
           "y": [
            "S002"
           ],
           "yaxis": "y"
          },
          {
           "alignmentgroup": "True",
           "hovertemplate": "Store=%{y}<br>animation_frame=2024-11-15<br>Total Sales ($)=%{x}<extra></extra>",
           "legendgroup": "S003",
           "marker": {
            "color": "#EF553B",
            "pattern": {
             "shape": ""
            }
           },
           "name": "S003",
           "offsetgroup": "S003",
           "orientation": "h",
           "showlegend": true,
           "textposition": "auto",
           "type": "bar",
           "x": [
            610.77
           ],
           "xaxis": "x",
           "y": [
            "S003"
           ],
           "yaxis": "y"
          },
          {
           "alignmentgroup": "True",
           "hovertemplate": "Store=%{y}<br>animation_frame=2024-11-15<br>Total Sales ($)=%{x}<extra></extra>",
           "legendgroup": "S004",
           "marker": {
            "color": "#00cc96",
            "pattern": {
             "shape": ""
            }
           },
           "name": "S004",
           "offsetgroup": "S004",
           "orientation": "h",
           "showlegend": true,
           "textposition": "auto",
           "type": "bar",
           "x": [
            198.8
           ],
           "xaxis": "x",
           "y": [
            "S004"
           ],
           "yaxis": "y"
          },
          {
           "alignmentgroup": "True",
           "hovertemplate": "Store=%{y}<br>animation_frame=2024-11-15<br>Total Sales ($)=%{x}<extra></extra>",
           "legendgroup": "S001",
           "marker": {
            "color": "#ab63fa",
            "pattern": {
             "shape": ""
            }
           },
           "name": "S001",
           "offsetgroup": "S001",
           "orientation": "h",
           "showlegend": true,
           "textposition": "auto",
           "type": "bar",
           "x": [
            1945.6100000000001
           ],
           "xaxis": "x",
           "y": [
            "S001"
           ],
           "yaxis": "y"
          }
         ],
         "name": "2024-11-15"
        },
        {
         "data": [
          {
           "alignmentgroup": "True",
           "hovertemplate": "Store=%{y}<br>animation_frame=2024-11-16<br>Total Sales ($)=%{x}<extra></extra>",
           "legendgroup": "S002",
           "marker": {
            "color": "#636efa",
            "pattern": {
             "shape": ""
            }
           },
           "name": "S002",
           "offsetgroup": "S002",
           "orientation": "h",
           "showlegend": true,
           "textposition": "auto",
           "type": "bar",
           "x": [
            1099.01
           ],
           "xaxis": "x",
           "y": [
            "S002"
           ],
           "yaxis": "y"
          },
          {
           "alignmentgroup": "True",
           "hovertemplate": "Store=%{y}<br>animation_frame=2024-11-16<br>Total Sales ($)=%{x}<extra></extra>",
           "legendgroup": "S003",
           "marker": {
            "color": "#EF553B",
            "pattern": {
             "shape": ""
            }
           },
           "name": "S003",
           "offsetgroup": "S003",
           "orientation": "h",
           "showlegend": true,
           "textposition": "auto",
           "type": "bar",
           "x": [
            1132.29
           ],
           "xaxis": "x",
           "y": [
            "S003"
           ],
           "yaxis": "y"
          },
          {
           "alignmentgroup": "True",
           "hovertemplate": "Store=%{y}<br>animation_frame=2024-11-16<br>Total Sales ($)=%{x}<extra></extra>",
           "legendgroup": "S004",
           "marker": {
            "color": "#00cc96",
            "pattern": {
             "shape": ""
            }
           },
           "name": "S004",
           "offsetgroup": "S004",
           "orientation": "h",
           "showlegend": true,
           "textposition": "auto",
           "type": "bar",
           "x": [
            874.49
           ],
           "xaxis": "x",
           "y": [
            "S004"
           ],
           "yaxis": "y"
          },
          {
           "alignmentgroup": "True",
           "hovertemplate": "Store=%{y}<br>animation_frame=2024-11-16<br>Total Sales ($)=%{x}<extra></extra>",
           "legendgroup": "S001",
           "marker": {
            "color": "#ab63fa",
            "pattern": {
             "shape": ""
            }
           },
           "name": "S001",
           "offsetgroup": "S001",
           "orientation": "h",
           "showlegend": true,
           "textposition": "auto",
           "type": "bar",
           "x": [
            641.36
           ],
           "xaxis": "x",
           "y": [
            "S001"
           ],
           "yaxis": "y"
          }
         ],
         "name": "2024-11-16"
        },
        {
         "data": [
          {
           "alignmentgroup": "True",
           "hovertemplate": "Store=%{y}<br>animation_frame=2024-11-17<br>Total Sales ($)=%{x}<extra></extra>",
           "legendgroup": "S002",
           "marker": {
            "color": "#636efa",
            "pattern": {
             "shape": ""
            }
           },
           "name": "S002",
           "offsetgroup": "S002",
           "orientation": "h",
           "showlegend": true,
           "textposition": "auto",
           "type": "bar",
           "x": [
            380.34
           ],
           "xaxis": "x",
           "y": [
            "S002"
           ],
           "yaxis": "y"
          },
          {
           "alignmentgroup": "True",
           "hovertemplate": "Store=%{y}<br>animation_frame=2024-11-17<br>Total Sales ($)=%{x}<extra></extra>",
           "legendgroup": "S004",
           "marker": {
            "color": "#00cc96",
            "pattern": {
             "shape": ""
            }
           },
           "name": "S004",
           "offsetgroup": "S004",
           "orientation": "h",
           "showlegend": true,
           "textposition": "auto",
           "type": "bar",
           "x": [
            900.23
           ],
           "xaxis": "x",
           "y": [
            "S004"
           ],
           "yaxis": "y"
          },
          {
           "alignmentgroup": "True",
           "hovertemplate": "Store=%{y}<br>animation_frame=2024-11-17<br>Total Sales ($)=%{x}<extra></extra>",
           "legendgroup": "S001",
           "marker": {
            "color": "#ab63fa",
            "pattern": {
             "shape": ""
            }
           },
           "name": "S001",
           "offsetgroup": "S001",
           "orientation": "h",
           "showlegend": true,
           "textposition": "auto",
           "type": "bar",
           "x": [
            497.78
           ],
           "xaxis": "x",
           "y": [
            "S001"
           ],
           "yaxis": "y"
          }
         ],
         "name": "2024-11-17"
        },
        {
         "data": [
          {
           "alignmentgroup": "True",
           "hovertemplate": "Store=%{y}<br>animation_frame=2024-11-18<br>Total Sales ($)=%{x}<extra></extra>",
           "legendgroup": "S002",
           "marker": {
            "color": "#636efa",
            "pattern": {
             "shape": ""
            }
           },
           "name": "S002",
           "offsetgroup": "S002",
           "orientation": "h",
           "showlegend": true,
           "textposition": "auto",
           "type": "bar",
           "x": [
            1311.84
           ],
           "xaxis": "x",
           "y": [
            "S002"
           ],
           "yaxis": "y"
          },
          {
           "alignmentgroup": "True",
           "hovertemplate": "Store=%{y}<br>animation_frame=2024-11-18<br>Total Sales ($)=%{x}<extra></extra>",
           "legendgroup": "S003",
           "marker": {
            "color": "#EF553B",
            "pattern": {
             "shape": ""
            }
           },
           "name": "S003",
           "offsetgroup": "S003",
           "orientation": "h",
           "showlegend": true,
           "textposition": "auto",
           "type": "bar",
           "x": [
            583.47
           ],
           "xaxis": "x",
           "y": [
            "S003"
           ],
           "yaxis": "y"
          },
          {
           "alignmentgroup": "True",
           "hovertemplate": "Store=%{y}<br>animation_frame=2024-11-18<br>Total Sales ($)=%{x}<extra></extra>",
           "legendgroup": "S001",
           "marker": {
            "color": "#ab63fa",
            "pattern": {
             "shape": ""
            }
           },
           "name": "S001",
           "offsetgroup": "S001",
           "orientation": "h",
           "showlegend": true,
           "textposition": "auto",
           "type": "bar",
           "x": [
            2342.273222222222
           ],
           "xaxis": "x",
           "y": [
            "S001"
           ],
           "yaxis": "y"
          }
         ],
         "name": "2024-11-18"
        },
        {
         "data": [
          {
           "alignmentgroup": "True",
           "hovertemplate": "Store=%{y}<br>animation_frame=2024-11-19<br>Total Sales ($)=%{x}<extra></extra>",
           "legendgroup": "S002",
           "marker": {
            "color": "#636efa",
            "pattern": {
             "shape": ""
            }
           },
           "name": "S002",
           "offsetgroup": "S002",
           "orientation": "h",
           "showlegend": true,
           "textposition": "auto",
           "type": "bar",
           "x": [
            1722.1299999999999
           ],
           "xaxis": "x",
           "y": [
            "S002"
           ],
           "yaxis": "y"
          },
          {
           "alignmentgroup": "True",
           "hovertemplate": "Store=%{y}<br>animation_frame=2024-11-19<br>Total Sales ($)=%{x}<extra></extra>",
           "legendgroup": "S003",
           "marker": {
            "color": "#EF553B",
            "pattern": {
             "shape": ""
            }
           },
           "name": "S003",
           "offsetgroup": "S003",
           "orientation": "h",
           "showlegend": true,
           "textposition": "auto",
           "type": "bar",
           "x": [
            1312.9232222222222
           ],
           "xaxis": "x",
           "y": [
            "S003"
           ],
           "yaxis": "y"
          },
          {
           "alignmentgroup": "True",
           "hovertemplate": "Store=%{y}<br>animation_frame=2024-11-19<br>Total Sales ($)=%{x}<extra></extra>",
           "legendgroup": "S001",
           "marker": {
            "color": "#ab63fa",
            "pattern": {
             "shape": ""
            }
           },
           "name": "S001",
           "offsetgroup": "S001",
           "orientation": "h",
           "showlegend": true,
           "textposition": "auto",
           "type": "bar",
           "x": [
            871.09
           ],
           "xaxis": "x",
           "y": [
            "S001"
           ],
           "yaxis": "y"
          }
         ],
         "name": "2024-11-19"
        },
        {
         "data": [
          {
           "alignmentgroup": "True",
           "hovertemplate": "Store=%{y}<br>animation_frame=2024-11-20<br>Total Sales ($)=%{x}<extra></extra>",
           "legendgroup": "S002",
           "marker": {
            "color": "#636efa",
            "pattern": {
             "shape": ""
            }
           },
           "name": "S002",
           "offsetgroup": "S002",
           "orientation": "h",
           "showlegend": true,
           "textposition": "auto",
           "type": "bar",
           "x": [
            353.18
           ],
           "xaxis": "x",
           "y": [
            "S002"
           ],
           "yaxis": "y"
          },
          {
           "alignmentgroup": "True",
           "hovertemplate": "Store=%{y}<br>animation_frame=2024-11-20<br>Total Sales ($)=%{x}<extra></extra>",
           "legendgroup": "S003",
           "marker": {
            "color": "#EF553B",
            "pattern": {
             "shape": ""
            }
           },
           "name": "S003",
           "offsetgroup": "S003",
           "orientation": "h",
           "showlegend": true,
           "textposition": "auto",
           "type": "bar",
           "x": [
            753.25
           ],
           "xaxis": "x",
           "y": [
            "S003"
           ],
           "yaxis": "y"
          },
          {
           "alignmentgroup": "True",
           "hovertemplate": "Store=%{y}<br>animation_frame=2024-11-20<br>Total Sales ($)=%{x}<extra></extra>",
           "legendgroup": "S004",
           "marker": {
            "color": "#00cc96",
            "pattern": {
             "shape": ""
            }
           },
           "name": "S004",
           "offsetgroup": "S004",
           "orientation": "h",
           "showlegend": true,
           "textposition": "auto",
           "type": "bar",
           "x": [
            30.25
           ],
           "xaxis": "x",
           "y": [
            "S004"
           ],
           "yaxis": "y"
          },
          {
           "alignmentgroup": "True",
           "hovertemplate": "Store=%{y}<br>animation_frame=2024-11-20<br>Total Sales ($)=%{x}<extra></extra>",
           "legendgroup": "S001",
           "marker": {
            "color": "#ab63fa",
            "pattern": {
             "shape": ""
            }
           },
           "name": "S001",
           "offsetgroup": "S001",
           "orientation": "h",
           "showlegend": true,
           "textposition": "auto",
           "type": "bar",
           "x": [
            479.11322222222225
           ],
           "xaxis": "x",
           "y": [
            "S001"
           ],
           "yaxis": "y"
          }
         ],
         "name": "2024-11-20"
        },
        {
         "data": [
          {
           "alignmentgroup": "True",
           "hovertemplate": "Store=%{y}<br>animation_frame=2024-11-21<br>Total Sales ($)=%{x}<extra></extra>",
           "legendgroup": "S002",
           "marker": {
            "color": "#636efa",
            "pattern": {
             "shape": ""
            }
           },
           "name": "S002",
           "offsetgroup": "S002",
           "orientation": "h",
           "showlegend": true,
           "textposition": "auto",
           "type": "bar",
           "x": [
            975.14
           ],
           "xaxis": "x",
           "y": [
            "S002"
           ],
           "yaxis": "y"
          },
          {
           "alignmentgroup": "True",
           "hovertemplate": "Store=%{y}<br>animation_frame=2024-11-21<br>Total Sales ($)=%{x}<extra></extra>",
           "legendgroup": "S003",
           "marker": {
            "color": "#EF553B",
            "pattern": {
             "shape": ""
            }
           },
           "name": "S003",
           "offsetgroup": "S003",
           "orientation": "h",
           "showlegend": true,
           "textposition": "auto",
           "type": "bar",
           "x": [
            479.11322222222225
           ],
           "xaxis": "x",
           "y": [
            "S003"
           ],
           "yaxis": "y"
          },
          {
           "alignmentgroup": "True",
           "hovertemplate": "Store=%{y}<br>animation_frame=2024-11-21<br>Total Sales ($)=%{x}<extra></extra>",
           "legendgroup": "S004",
           "marker": {
            "color": "#00cc96",
            "pattern": {
             "shape": ""
            }
           },
           "name": "S004",
           "offsetgroup": "S004",
           "orientation": "h",
           "showlegend": true,
           "textposition": "auto",
           "type": "bar",
           "x": [
            1670.56
           ],
           "xaxis": "x",
           "y": [
            "S004"
           ],
           "yaxis": "y"
          },
          {
           "alignmentgroup": "True",
           "hovertemplate": "Store=%{y}<br>animation_frame=2024-11-21<br>Total Sales ($)=%{x}<extra></extra>",
           "legendgroup": "S001",
           "marker": {
            "color": "#ab63fa",
            "pattern": {
             "shape": ""
            }
           },
           "name": "S001",
           "offsetgroup": "S001",
           "orientation": "h",
           "showlegend": true,
           "textposition": "auto",
           "type": "bar",
           "x": [
            1255.25
           ],
           "xaxis": "x",
           "y": [
            "S001"
           ],
           "yaxis": "y"
          }
         ],
         "name": "2024-11-21"
        },
        {
         "data": [
          {
           "alignmentgroup": "True",
           "hovertemplate": "Store=%{y}<br>animation_frame=2024-11-22<br>Total Sales ($)=%{x}<extra></extra>",
           "legendgroup": "S002",
           "marker": {
            "color": "#636efa",
            "pattern": {
             "shape": ""
            }
           },
           "name": "S002",
           "offsetgroup": "S002",
           "orientation": "h",
           "showlegend": true,
           "textposition": "auto",
           "type": "bar",
           "x": [
            216.53
           ],
           "xaxis": "x",
           "y": [
            "S002"
           ],
           "yaxis": "y"
          },
          {
           "alignmentgroup": "True",
           "hovertemplate": "Store=%{y}<br>animation_frame=2024-11-22<br>Total Sales ($)=%{x}<extra></extra>",
           "legendgroup": "S003",
           "marker": {
            "color": "#EF553B",
            "pattern": {
             "shape": ""
            }
           },
           "name": "S003",
           "offsetgroup": "S003",
           "orientation": "h",
           "showlegend": true,
           "textposition": "auto",
           "type": "bar",
           "x": [
            1798.523222222222
           ],
           "xaxis": "x",
           "y": [
            "S003"
           ],
           "yaxis": "y"
          },
          {
           "alignmentgroup": "True",
           "hovertemplate": "Store=%{y}<br>animation_frame=2024-11-22<br>Total Sales ($)=%{x}<extra></extra>",
           "legendgroup": "S004",
           "marker": {
            "color": "#00cc96",
            "pattern": {
             "shape": ""
            }
           },
           "name": "S004",
           "offsetgroup": "S004",
           "orientation": "h",
           "showlegend": true,
           "textposition": "auto",
           "type": "bar",
           "x": [
            685.13
           ],
           "xaxis": "x",
           "y": [
            "S004"
           ],
           "yaxis": "y"
          },
          {
           "alignmentgroup": "True",
           "hovertemplate": "Store=%{y}<br>animation_frame=2024-11-22<br>Total Sales ($)=%{x}<extra></extra>",
           "legendgroup": "S001",
           "marker": {
            "color": "#ab63fa",
            "pattern": {
             "shape": ""
            }
           },
           "name": "S001",
           "offsetgroup": "S001",
           "orientation": "h",
           "showlegend": true,
           "textposition": "auto",
           "type": "bar",
           "x": [
            696.69
           ],
           "xaxis": "x",
           "y": [
            "S001"
           ],
           "yaxis": "y"
          }
         ],
         "name": "2024-11-22"
        },
        {
         "data": [
          {
           "alignmentgroup": "True",
           "hovertemplate": "Store=%{y}<br>animation_frame=2024-11-23<br>Total Sales ($)=%{x}<extra></extra>",
           "legendgroup": "S002",
           "marker": {
            "color": "#636efa",
            "pattern": {
             "shape": ""
            }
           },
           "name": "S002",
           "offsetgroup": "S002",
           "orientation": "h",
           "showlegend": true,
           "textposition": "auto",
           "type": "bar",
           "x": [
            226.8
           ],
           "xaxis": "x",
           "y": [
            "S002"
           ],
           "yaxis": "y"
          },
          {
           "alignmentgroup": "True",
           "hovertemplate": "Store=%{y}<br>animation_frame=2024-11-23<br>Total Sales ($)=%{x}<extra></extra>",
           "legendgroup": "S004",
           "marker": {
            "color": "#00cc96",
            "pattern": {
             "shape": ""
            }
           },
           "name": "S004",
           "offsetgroup": "S004",
           "orientation": "h",
           "showlegend": true,
           "textposition": "auto",
           "type": "bar",
           "x": [
            398.53
           ],
           "xaxis": "x",
           "y": [
            "S004"
           ],
           "yaxis": "y"
          },
          {
           "alignmentgroup": "True",
           "hovertemplate": "Store=%{y}<br>animation_frame=2024-11-23<br>Total Sales ($)=%{x}<extra></extra>",
           "legendgroup": "S001",
           "marker": {
            "color": "#ab63fa",
            "pattern": {
             "shape": ""
            }
           },
           "name": "S001",
           "offsetgroup": "S001",
           "orientation": "h",
           "showlegend": true,
           "textposition": "auto",
           "type": "bar",
           "x": [
            51.15
           ],
           "xaxis": "x",
           "y": [
            "S001"
           ],
           "yaxis": "y"
          }
         ],
         "name": "2024-11-23"
        },
        {
         "data": [
          {
           "alignmentgroup": "True",
           "hovertemplate": "Store=%{y}<br>animation_frame=2024-11-24<br>Total Sales ($)=%{x}<extra></extra>",
           "legendgroup": "S002",
           "marker": {
            "color": "#636efa",
            "pattern": {
             "shape": ""
            }
           },
           "name": "S002",
           "offsetgroup": "S002",
           "orientation": "h",
           "showlegend": true,
           "textposition": "auto",
           "type": "bar",
           "x": [
            899.9300000000001
           ],
           "xaxis": "x",
           "y": [
            "S002"
           ],
           "yaxis": "y"
          },
          {
           "alignmentgroup": "True",
           "hovertemplate": "Store=%{y}<br>animation_frame=2024-11-24<br>Total Sales ($)=%{x}<extra></extra>",
           "legendgroup": "S003",
           "marker": {
            "color": "#EF553B",
            "pattern": {
             "shape": ""
            }
           },
           "name": "S003",
           "offsetgroup": "S003",
           "orientation": "h",
           "showlegend": true,
           "textposition": "auto",
           "type": "bar",
           "x": [
            1688.95
           ],
           "xaxis": "x",
           "y": [
            "S003"
           ],
           "yaxis": "y"
          },
          {
           "alignmentgroup": "True",
           "hovertemplate": "Store=%{y}<br>animation_frame=2024-11-24<br>Total Sales ($)=%{x}<extra></extra>",
           "legendgroup": "S001",
           "marker": {
            "color": "#ab63fa",
            "pattern": {
             "shape": ""
            }
           },
           "name": "S001",
           "offsetgroup": "S001",
           "orientation": "h",
           "showlegend": true,
           "textposition": "auto",
           "type": "bar",
           "x": [
            672.28
           ],
           "xaxis": "x",
           "y": [
            "S001"
           ],
           "yaxis": "y"
          }
         ],
         "name": "2024-11-24"
        },
        {
         "data": [
          {
           "alignmentgroup": "True",
           "hovertemplate": "Store=%{y}<br>animation_frame=2024-11-25<br>Total Sales ($)=%{x}<extra></extra>",
           "legendgroup": "S002",
           "marker": {
            "color": "#636efa",
            "pattern": {
             "shape": ""
            }
           },
           "name": "S002",
           "offsetgroup": "S002",
           "orientation": "h",
           "showlegend": true,
           "textposition": "auto",
           "type": "bar",
           "x": [
            744.24
           ],
           "xaxis": "x",
           "y": [
            "S002"
           ],
           "yaxis": "y"
          },
          {
           "alignmentgroup": "True",
           "hovertemplate": "Store=%{y}<br>animation_frame=2024-11-25<br>Total Sales ($)=%{x}<extra></extra>",
           "legendgroup": "S003",
           "marker": {
            "color": "#EF553B",
            "pattern": {
             "shape": ""
            }
           },
           "name": "S003",
           "offsetgroup": "S003",
           "orientation": "h",
           "showlegend": true,
           "textposition": "auto",
           "type": "bar",
           "x": [
            1022.1932222222223
           ],
           "xaxis": "x",
           "y": [
            "S003"
           ],
           "yaxis": "y"
          },
          {
           "alignmentgroup": "True",
           "hovertemplate": "Store=%{y}<br>animation_frame=2024-11-25<br>Total Sales ($)=%{x}<extra></extra>",
           "legendgroup": "S004",
           "marker": {
            "color": "#00cc96",
            "pattern": {
             "shape": ""
            }
           },
           "name": "S004",
           "offsetgroup": "S004",
           "orientation": "h",
           "showlegend": true,
           "textposition": "auto",
           "type": "bar",
           "x": [
            469.12
           ],
           "xaxis": "x",
           "y": [
            "S004"
           ],
           "yaxis": "y"
          },
          {
           "alignmentgroup": "True",
           "hovertemplate": "Store=%{y}<br>animation_frame=2024-11-25<br>Total Sales ($)=%{x}<extra></extra>",
           "legendgroup": "S001",
           "marker": {
            "color": "#ab63fa",
            "pattern": {
             "shape": ""
            }
           },
           "name": "S001",
           "offsetgroup": "S001",
           "orientation": "h",
           "showlegend": true,
           "textposition": "auto",
           "type": "bar",
           "x": [
            1449.5932222222223
           ],
           "xaxis": "x",
           "y": [
            "S001"
           ],
           "yaxis": "y"
          }
         ],
         "name": "2024-11-25"
        },
        {
         "data": [
          {
           "alignmentgroup": "True",
           "hovertemplate": "Store=%{y}<br>animation_frame=2024-11-26<br>Total Sales ($)=%{x}<extra></extra>",
           "legendgroup": "S002",
           "marker": {
            "color": "#636efa",
            "pattern": {
             "shape": ""
            }
           },
           "name": "S002",
           "offsetgroup": "S002",
           "orientation": "h",
           "showlegend": true,
           "textposition": "auto",
           "type": "bar",
           "x": [
            2068.41
           ],
           "xaxis": "x",
           "y": [
            "S002"
           ],
           "yaxis": "y"
          },
          {
           "alignmentgroup": "True",
           "hovertemplate": "Store=%{y}<br>animation_frame=2024-11-26<br>Total Sales ($)=%{x}<extra></extra>",
           "legendgroup": "S003",
           "marker": {
            "color": "#EF553B",
            "pattern": {
             "shape": ""
            }
           },
           "name": "S003",
           "offsetgroup": "S003",
           "orientation": "h",
           "showlegend": true,
           "textposition": "auto",
           "type": "bar",
           "x": [
            883.08
           ],
           "xaxis": "x",
           "y": [
            "S003"
           ],
           "yaxis": "y"
          },
          {
           "alignmentgroup": "True",
           "hovertemplate": "Store=%{y}<br>animation_frame=2024-11-26<br>Total Sales ($)=%{x}<extra></extra>",
           "legendgroup": "S001",
           "marker": {
            "color": "#ab63fa",
            "pattern": {
             "shape": ""
            }
           },
           "name": "S001",
           "offsetgroup": "S001",
           "orientation": "h",
           "showlegend": true,
           "textposition": "auto",
           "type": "bar",
           "x": [
            1550.9432222222222
           ],
           "xaxis": "x",
           "y": [
            "S001"
           ],
           "yaxis": "y"
          }
         ],
         "name": "2024-11-26"
        },
        {
         "data": [
          {
           "alignmentgroup": "True",
           "hovertemplate": "Store=%{y}<br>animation_frame=2024-11-27<br>Total Sales ($)=%{x}<extra></extra>",
           "legendgroup": "S002",
           "marker": {
            "color": "#636efa",
            "pattern": {
             "shape": ""
            }
           },
           "name": "S002",
           "offsetgroup": "S002",
           "orientation": "h",
           "showlegend": true,
           "textposition": "auto",
           "type": "bar",
           "x": [
            1138.43
           ],
           "xaxis": "x",
           "y": [
            "S002"
           ],
           "yaxis": "y"
          },
          {
           "alignmentgroup": "True",
           "hovertemplate": "Store=%{y}<br>animation_frame=2024-11-27<br>Total Sales ($)=%{x}<extra></extra>",
           "legendgroup": "S003",
           "marker": {
            "color": "#EF553B",
            "pattern": {
             "shape": ""
            }
           },
           "name": "S003",
           "offsetgroup": "S003",
           "orientation": "h",
           "showlegend": true,
           "textposition": "auto",
           "type": "bar",
           "x": [
            479.11322222222225
           ],
           "xaxis": "x",
           "y": [
            "S003"
           ],
           "yaxis": "y"
          },
          {
           "alignmentgroup": "True",
           "hovertemplate": "Store=%{y}<br>animation_frame=2024-11-27<br>Total Sales ($)=%{x}<extra></extra>",
           "legendgroup": "S004",
           "marker": {
            "color": "#00cc96",
            "pattern": {
             "shape": ""
            }
           },
           "name": "S004",
           "offsetgroup": "S004",
           "orientation": "h",
           "showlegend": true,
           "textposition": "auto",
           "type": "bar",
           "x": [
            292.41999999999996
           ],
           "xaxis": "x",
           "y": [
            "S004"
           ],
           "yaxis": "y"
          },
          {
           "alignmentgroup": "True",
           "hovertemplate": "Store=%{y}<br>animation_frame=2024-11-27<br>Total Sales ($)=%{x}<extra></extra>",
           "legendgroup": "S001",
           "marker": {
            "color": "#ab63fa",
            "pattern": {
             "shape": ""
            }
           },
           "name": "S001",
           "offsetgroup": "S001",
           "orientation": "h",
           "showlegend": true,
           "textposition": "auto",
           "type": "bar",
           "x": [
            338.55
           ],
           "xaxis": "x",
           "y": [
            "S001"
           ],
           "yaxis": "y"
          }
         ],
         "name": "2024-11-27"
        },
        {
         "data": [
          {
           "alignmentgroup": "True",
           "hovertemplate": "Store=%{y}<br>animation_frame=2024-11-28<br>Total Sales ($)=%{x}<extra></extra>",
           "legendgroup": "S002",
           "marker": {
            "color": "#636efa",
            "pattern": {
             "shape": ""
            }
           },
           "name": "S002",
           "offsetgroup": "S002",
           "orientation": "h",
           "showlegend": true,
           "textposition": "auto",
           "type": "bar",
           "x": [
            270.32
           ],
           "xaxis": "x",
           "y": [
            "S002"
           ],
           "yaxis": "y"
          },
          {
           "alignmentgroup": "True",
           "hovertemplate": "Store=%{y}<br>animation_frame=2024-11-28<br>Total Sales ($)=%{x}<extra></extra>",
           "legendgroup": "S003",
           "marker": {
            "color": "#EF553B",
            "pattern": {
             "shape": ""
            }
           },
           "name": "S003",
           "offsetgroup": "S003",
           "orientation": "h",
           "showlegend": true,
           "textposition": "auto",
           "type": "bar",
           "x": [
            1854.9132222222222
           ],
           "xaxis": "x",
           "y": [
            "S003"
           ],
           "yaxis": "y"
          },
          {
           "alignmentgroup": "True",
           "hovertemplate": "Store=%{y}<br>animation_frame=2024-11-28<br>Total Sales ($)=%{x}<extra></extra>",
           "legendgroup": "S001",
           "marker": {
            "color": "#ab63fa",
            "pattern": {
             "shape": ""
            }
           },
           "name": "S001",
           "offsetgroup": "S001",
           "orientation": "h",
           "showlegend": true,
           "textposition": "auto",
           "type": "bar",
           "x": [
            1868.4232222222222
           ],
           "xaxis": "x",
           "y": [
            "S001"
           ],
           "yaxis": "y"
          }
         ],
         "name": "2024-11-28"
        },
        {
         "data": [
          {
           "alignmentgroup": "True",
           "hovertemplate": "Store=%{y}<br>animation_frame=2024-11-29<br>Total Sales ($)=%{x}<extra></extra>",
           "legendgroup": "S002",
           "marker": {
            "color": "#636efa",
            "pattern": {
             "shape": ""
            }
           },
           "name": "S002",
           "offsetgroup": "S002",
           "orientation": "h",
           "showlegend": true,
           "textposition": "auto",
           "type": "bar",
           "x": [
            1027.3500000000001
           ],
           "xaxis": "x",
           "y": [
            "S002"
           ],
           "yaxis": "y"
          },
          {
           "alignmentgroup": "True",
           "hovertemplate": "Store=%{y}<br>animation_frame=2024-11-29<br>Total Sales ($)=%{x}<extra></extra>",
           "legendgroup": "S003",
           "marker": {
            "color": "#EF553B",
            "pattern": {
             "shape": ""
            }
           },
           "name": "S003",
           "offsetgroup": "S003",
           "orientation": "h",
           "showlegend": true,
           "textposition": "auto",
           "type": "bar",
           "x": [
            171.64
           ],
           "xaxis": "x",
           "y": [
            "S003"
           ],
           "yaxis": "y"
          },
          {
           "alignmentgroup": "True",
           "hovertemplate": "Store=%{y}<br>animation_frame=2024-11-29<br>Total Sales ($)=%{x}<extra></extra>",
           "legendgroup": "S004",
           "marker": {
            "color": "#00cc96",
            "pattern": {
             "shape": ""
            }
           },
           "name": "S004",
           "offsetgroup": "S004",
           "orientation": "h",
           "showlegend": true,
           "textposition": "auto",
           "type": "bar",
           "x": [
            526.64
           ],
           "xaxis": "x",
           "y": [
            "S004"
           ],
           "yaxis": "y"
          },
          {
           "alignmentgroup": "True",
           "hovertemplate": "Store=%{y}<br>animation_frame=2024-11-29<br>Total Sales ($)=%{x}<extra></extra>",
           "legendgroup": "S001",
           "marker": {
            "color": "#ab63fa",
            "pattern": {
             "shape": ""
            }
           },
           "name": "S001",
           "offsetgroup": "S001",
           "orientation": "h",
           "showlegend": true,
           "textposition": "auto",
           "type": "bar",
           "x": [
            2358
           ],
           "xaxis": "x",
           "y": [
            "S001"
           ],
           "yaxis": "y"
          }
         ],
         "name": "2024-11-29"
        },
        {
         "data": [
          {
           "alignmentgroup": "True",
           "hovertemplate": "Store=%{y}<br>animation_frame=2024-11-30<br>Total Sales ($)=%{x}<extra></extra>",
           "legendgroup": "S002",
           "marker": {
            "color": "#636efa",
            "pattern": {
             "shape": ""
            }
           },
           "name": "S002",
           "offsetgroup": "S002",
           "orientation": "h",
           "showlegend": true,
           "textposition": "auto",
           "type": "bar",
           "x": [
            947.89
           ],
           "xaxis": "x",
           "y": [
            "S002"
           ],
           "yaxis": "y"
          },
          {
           "alignmentgroup": "True",
           "hovertemplate": "Store=%{y}<br>animation_frame=2024-11-30<br>Total Sales ($)=%{x}<extra></extra>",
           "legendgroup": "S004",
           "marker": {
            "color": "#00cc96",
            "pattern": {
             "shape": ""
            }
           },
           "name": "S004",
           "offsetgroup": "S004",
           "orientation": "h",
           "showlegend": true,
           "textposition": "auto",
           "type": "bar",
           "x": [
            223.32000000000002
           ],
           "xaxis": "x",
           "y": [
            "S004"
           ],
           "yaxis": "y"
          }
         ],
         "name": "2024-11-30"
        }
       ],
       "layout": {
        "barmode": "relative",
        "hovermode": "x",
        "legend": {
         "title": {
          "text": "Store"
         },
         "tracegroupgap": 0
        },
        "sliders": [
         {
          "active": 0,
          "currentvalue": {
           "prefix": "animation_frame="
          },
          "len": 0.9,
          "pad": {
           "b": 10,
           "t": 60
          },
          "steps": [
           {
            "args": [
             [
              "2024-11-01"
             ],
             {
              "frame": {
               "duration": 0,
               "redraw": true
              },
              "fromcurrent": true,
              "mode": "immediate",
              "transition": {
               "duration": 0,
               "easing": "linear"
              }
             }
            ],
            "label": "2024-11-01",
            "method": "animate"
           },
           {
            "args": [
             [
              "2024-11-02"
             ],
             {
              "frame": {
               "duration": 0,
               "redraw": true
              },
              "fromcurrent": true,
              "mode": "immediate",
              "transition": {
               "duration": 0,
               "easing": "linear"
              }
             }
            ],
            "label": "2024-11-02",
            "method": "animate"
           },
           {
            "args": [
             [
              "2024-11-03"
             ],
             {
              "frame": {
               "duration": 0,
               "redraw": true
              },
              "fromcurrent": true,
              "mode": "immediate",
              "transition": {
               "duration": 0,
               "easing": "linear"
              }
             }
            ],
            "label": "2024-11-03",
            "method": "animate"
           },
           {
            "args": [
             [
              "2024-11-04"
             ],
             {
              "frame": {
               "duration": 0,
               "redraw": true
              },
              "fromcurrent": true,
              "mode": "immediate",
              "transition": {
               "duration": 0,
               "easing": "linear"
              }
             }
            ],
            "label": "2024-11-04",
            "method": "animate"
           },
           {
            "args": [
             [
              "2024-11-05"
             ],
             {
              "frame": {
               "duration": 0,
               "redraw": true
              },
              "fromcurrent": true,
              "mode": "immediate",
              "transition": {
               "duration": 0,
               "easing": "linear"
              }
             }
            ],
            "label": "2024-11-05",
            "method": "animate"
           },
           {
            "args": [
             [
              "2024-11-06"
             ],
             {
              "frame": {
               "duration": 0,
               "redraw": true
              },
              "fromcurrent": true,
              "mode": "immediate",
              "transition": {
               "duration": 0,
               "easing": "linear"
              }
             }
            ],
            "label": "2024-11-06",
            "method": "animate"
           },
           {
            "args": [
             [
              "2024-11-07"
             ],
             {
              "frame": {
               "duration": 0,
               "redraw": true
              },
              "fromcurrent": true,
              "mode": "immediate",
              "transition": {
               "duration": 0,
               "easing": "linear"
              }
             }
            ],
            "label": "2024-11-07",
            "method": "animate"
           },
           {
            "args": [
             [
              "2024-11-08"
             ],
             {
              "frame": {
               "duration": 0,
               "redraw": true
              },
              "fromcurrent": true,
              "mode": "immediate",
              "transition": {
               "duration": 0,
               "easing": "linear"
              }
             }
            ],
            "label": "2024-11-08",
            "method": "animate"
           },
           {
            "args": [
             [
              "2024-11-09"
             ],
             {
              "frame": {
               "duration": 0,
               "redraw": true
              },
              "fromcurrent": true,
              "mode": "immediate",
              "transition": {
               "duration": 0,
               "easing": "linear"
              }
             }
            ],
            "label": "2024-11-09",
            "method": "animate"
           },
           {
            "args": [
             [
              "2024-11-10"
             ],
             {
              "frame": {
               "duration": 0,
               "redraw": true
              },
              "fromcurrent": true,
              "mode": "immediate",
              "transition": {
               "duration": 0,
               "easing": "linear"
              }
             }
            ],
            "label": "2024-11-10",
            "method": "animate"
           },
           {
            "args": [
             [
              "2024-11-11"
             ],
             {
              "frame": {
               "duration": 0,
               "redraw": true
              },
              "fromcurrent": true,
              "mode": "immediate",
              "transition": {
               "duration": 0,
               "easing": "linear"
              }
             }
            ],
            "label": "2024-11-11",
            "method": "animate"
           },
           {
            "args": [
             [
              "2024-11-12"
             ],
             {
              "frame": {
               "duration": 0,
               "redraw": true
              },
              "fromcurrent": true,
              "mode": "immediate",
              "transition": {
               "duration": 0,
               "easing": "linear"
              }
             }
            ],
            "label": "2024-11-12",
            "method": "animate"
           },
           {
            "args": [
             [
              "2024-11-13"
             ],
             {
              "frame": {
               "duration": 0,
               "redraw": true
              },
              "fromcurrent": true,
              "mode": "immediate",
              "transition": {
               "duration": 0,
               "easing": "linear"
              }
             }
            ],
            "label": "2024-11-13",
            "method": "animate"
           },
           {
            "args": [
             [
              "2024-11-14"
             ],
             {
              "frame": {
               "duration": 0,
               "redraw": true
              },
              "fromcurrent": true,
              "mode": "immediate",
              "transition": {
               "duration": 0,
               "easing": "linear"
              }
             }
            ],
            "label": "2024-11-14",
            "method": "animate"
           },
           {
            "args": [
             [
              "2024-11-15"
             ],
             {
              "frame": {
               "duration": 0,
               "redraw": true
              },
              "fromcurrent": true,
              "mode": "immediate",
              "transition": {
               "duration": 0,
               "easing": "linear"
              }
             }
            ],
            "label": "2024-11-15",
            "method": "animate"
           },
           {
            "args": [
             [
              "2024-11-16"
             ],
             {
              "frame": {
               "duration": 0,
               "redraw": true
              },
              "fromcurrent": true,
              "mode": "immediate",
              "transition": {
               "duration": 0,
               "easing": "linear"
              }
             }
            ],
            "label": "2024-11-16",
            "method": "animate"
           },
           {
            "args": [
             [
              "2024-11-17"
             ],
             {
              "frame": {
               "duration": 0,
               "redraw": true
              },
              "fromcurrent": true,
              "mode": "immediate",
              "transition": {
               "duration": 0,
               "easing": "linear"
              }
             }
            ],
            "label": "2024-11-17",
            "method": "animate"
           },
           {
            "args": [
             [
              "2024-11-18"
             ],
             {
              "frame": {
               "duration": 0,
               "redraw": true
              },
              "fromcurrent": true,
              "mode": "immediate",
              "transition": {
               "duration": 0,
               "easing": "linear"
              }
             }
            ],
            "label": "2024-11-18",
            "method": "animate"
           },
           {
            "args": [
             [
              "2024-11-19"
             ],
             {
              "frame": {
               "duration": 0,
               "redraw": true
              },
              "fromcurrent": true,
              "mode": "immediate",
              "transition": {
               "duration": 0,
               "easing": "linear"
              }
             }
            ],
            "label": "2024-11-19",
            "method": "animate"
           },
           {
            "args": [
             [
              "2024-11-20"
             ],
             {
              "frame": {
               "duration": 0,
               "redraw": true
              },
              "fromcurrent": true,
              "mode": "immediate",
              "transition": {
               "duration": 0,
               "easing": "linear"
              }
             }
            ],
            "label": "2024-11-20",
            "method": "animate"
           },
           {
            "args": [
             [
              "2024-11-21"
             ],
             {
              "frame": {
               "duration": 0,
               "redraw": true
              },
              "fromcurrent": true,
              "mode": "immediate",
              "transition": {
               "duration": 0,
               "easing": "linear"
              }
             }
            ],
            "label": "2024-11-21",
            "method": "animate"
           },
           {
            "args": [
             [
              "2024-11-22"
             ],
             {
              "frame": {
               "duration": 0,
               "redraw": true
              },
              "fromcurrent": true,
              "mode": "immediate",
              "transition": {
               "duration": 0,
               "easing": "linear"
              }
             }
            ],
            "label": "2024-11-22",
            "method": "animate"
           },
           {
            "args": [
             [
              "2024-11-23"
             ],
             {
              "frame": {
               "duration": 0,
               "redraw": true
              },
              "fromcurrent": true,
              "mode": "immediate",
              "transition": {
               "duration": 0,
               "easing": "linear"
              }
             }
            ],
            "label": "2024-11-23",
            "method": "animate"
           },
           {
            "args": [
             [
              "2024-11-24"
             ],
             {
              "frame": {
               "duration": 0,
               "redraw": true
              },
              "fromcurrent": true,
              "mode": "immediate",
              "transition": {
               "duration": 0,
               "easing": "linear"
              }
             }
            ],
            "label": "2024-11-24",
            "method": "animate"
           },
           {
            "args": [
             [
              "2024-11-25"
             ],
             {
              "frame": {
               "duration": 0,
               "redraw": true
              },
              "fromcurrent": true,
              "mode": "immediate",
              "transition": {
               "duration": 0,
               "easing": "linear"
              }
             }
            ],
            "label": "2024-11-25",
            "method": "animate"
           },
           {
            "args": [
             [
              "2024-11-26"
             ],
             {
              "frame": {
               "duration": 0,
               "redraw": true
              },
              "fromcurrent": true,
              "mode": "immediate",
              "transition": {
               "duration": 0,
               "easing": "linear"
              }
             }
            ],
            "label": "2024-11-26",
            "method": "animate"
           },
           {
            "args": [
             [
              "2024-11-27"
             ],
             {
              "frame": {
               "duration": 0,
               "redraw": true
              },
              "fromcurrent": true,
              "mode": "immediate",
              "transition": {
               "duration": 0,
               "easing": "linear"
              }
             }
            ],
            "label": "2024-11-27",
            "method": "animate"
           },
           {
            "args": [
             [
              "2024-11-28"
             ],
             {
              "frame": {
               "duration": 0,
               "redraw": true
              },
              "fromcurrent": true,
              "mode": "immediate",
              "transition": {
               "duration": 0,
               "easing": "linear"
              }
             }
            ],
            "label": "2024-11-28",
            "method": "animate"
           },
           {
            "args": [
             [
              "2024-11-29"
             ],
             {
              "frame": {
               "duration": 0,
               "redraw": true
              },
              "fromcurrent": true,
              "mode": "immediate",
              "transition": {
               "duration": 0,
               "easing": "linear"
              }
             }
            ],
            "label": "2024-11-29",
            "method": "animate"
           },
           {
            "args": [
             [
              "2024-11-30"
             ],
             {
              "frame": {
               "duration": 0,
               "redraw": true
              },
              "fromcurrent": true,
              "mode": "immediate",
              "transition": {
               "duration": 0,
               "easing": "linear"
              }
             }
            ],
            "label": "2024-11-30",
            "method": "animate"
           }
          ],
          "x": 0.1,
          "xanchor": "left",
          "y": 0,
          "yanchor": "top"
         }
        ],
        "template": {
         "data": {
          "bar": [
           {
            "error_x": {
             "color": "#2a3f5f"
            },
            "error_y": {
             "color": "#2a3f5f"
            },
            "marker": {
             "line": {
              "color": "#E5ECF6",
              "width": 0.5
             },
             "pattern": {
              "fillmode": "overlay",
              "size": 10,
              "solidity": 0.2
             }
            },
            "type": "bar"
           }
          ],
          "barpolar": [
           {
            "marker": {
             "line": {
              "color": "#E5ECF6",
              "width": 0.5
             },
             "pattern": {
              "fillmode": "overlay",
              "size": 10,
              "solidity": 0.2
             }
            },
            "type": "barpolar"
           }
          ],
          "carpet": [
           {
            "aaxis": {
             "endlinecolor": "#2a3f5f",
             "gridcolor": "white",
             "linecolor": "white",
             "minorgridcolor": "white",
             "startlinecolor": "#2a3f5f"
            },
            "baxis": {
             "endlinecolor": "#2a3f5f",
             "gridcolor": "white",
             "linecolor": "white",
             "minorgridcolor": "white",
             "startlinecolor": "#2a3f5f"
            },
            "type": "carpet"
           }
          ],
          "choropleth": [
           {
            "colorbar": {
             "outlinewidth": 0,
             "ticks": ""
            },
            "type": "choropleth"
           }
          ],
          "contour": [
           {
            "colorbar": {
             "outlinewidth": 0,
             "ticks": ""
            },
            "colorscale": [
             [
              0,
              "#0d0887"
             ],
             [
              0.1111111111111111,
              "#46039f"
             ],
             [
              0.2222222222222222,
              "#7201a8"
             ],
             [
              0.3333333333333333,
              "#9c179e"
             ],
             [
              0.4444444444444444,
              "#bd3786"
             ],
             [
              0.5555555555555556,
              "#d8576b"
             ],
             [
              0.6666666666666666,
              "#ed7953"
             ],
             [
              0.7777777777777778,
              "#fb9f3a"
             ],
             [
              0.8888888888888888,
              "#fdca26"
             ],
             [
              1,
              "#f0f921"
             ]
            ],
            "type": "contour"
           }
          ],
          "contourcarpet": [
           {
            "colorbar": {
             "outlinewidth": 0,
             "ticks": ""
            },
            "type": "contourcarpet"
           }
          ],
          "heatmap": [
           {
            "colorbar": {
             "outlinewidth": 0,
             "ticks": ""
            },
            "colorscale": [
             [
              0,
              "#0d0887"
             ],
             [
              0.1111111111111111,
              "#46039f"
             ],
             [
              0.2222222222222222,
              "#7201a8"
             ],
             [
              0.3333333333333333,
              "#9c179e"
             ],
             [
              0.4444444444444444,
              "#bd3786"
             ],
             [
              0.5555555555555556,
              "#d8576b"
             ],
             [
              0.6666666666666666,
              "#ed7953"
             ],
             [
              0.7777777777777778,
              "#fb9f3a"
             ],
             [
              0.8888888888888888,
              "#fdca26"
             ],
             [
              1,
              "#f0f921"
             ]
            ],
            "type": "heatmap"
           }
          ],
          "heatmapgl": [
           {
            "colorbar": {
             "outlinewidth": 0,
             "ticks": ""
            },
            "colorscale": [
             [
              0,
              "#0d0887"
             ],
             [
              0.1111111111111111,
              "#46039f"
             ],
             [
              0.2222222222222222,
              "#7201a8"
             ],
             [
              0.3333333333333333,
              "#9c179e"
             ],
             [
              0.4444444444444444,
              "#bd3786"
             ],
             [
              0.5555555555555556,
              "#d8576b"
             ],
             [
              0.6666666666666666,
              "#ed7953"
             ],
             [
              0.7777777777777778,
              "#fb9f3a"
             ],
             [
              0.8888888888888888,
              "#fdca26"
             ],
             [
              1,
              "#f0f921"
             ]
            ],
            "type": "heatmapgl"
           }
          ],
          "histogram": [
           {
            "marker": {
             "pattern": {
              "fillmode": "overlay",
              "size": 10,
              "solidity": 0.2
             }
            },
            "type": "histogram"
           }
          ],
          "histogram2d": [
           {
            "colorbar": {
             "outlinewidth": 0,
             "ticks": ""
            },
            "colorscale": [
             [
              0,
              "#0d0887"
             ],
             [
              0.1111111111111111,
              "#46039f"
             ],
             [
              0.2222222222222222,
              "#7201a8"
             ],
             [
              0.3333333333333333,
              "#9c179e"
             ],
             [
              0.4444444444444444,
              "#bd3786"
             ],
             [
              0.5555555555555556,
              "#d8576b"
             ],
             [
              0.6666666666666666,
              "#ed7953"
             ],
             [
              0.7777777777777778,
              "#fb9f3a"
             ],
             [
              0.8888888888888888,
              "#fdca26"
             ],
             [
              1,
              "#f0f921"
             ]
            ],
            "type": "histogram2d"
           }
          ],
          "histogram2dcontour": [
           {
            "colorbar": {
             "outlinewidth": 0,
             "ticks": ""
            },
            "colorscale": [
             [
              0,
              "#0d0887"
             ],
             [
              0.1111111111111111,
              "#46039f"
             ],
             [
              0.2222222222222222,
              "#7201a8"
             ],
             [
              0.3333333333333333,
              "#9c179e"
             ],
             [
              0.4444444444444444,
              "#bd3786"
             ],
             [
              0.5555555555555556,
              "#d8576b"
             ],
             [
              0.6666666666666666,
              "#ed7953"
             ],
             [
              0.7777777777777778,
              "#fb9f3a"
             ],
             [
              0.8888888888888888,
              "#fdca26"
             ],
             [
              1,
              "#f0f921"
             ]
            ],
            "type": "histogram2dcontour"
           }
          ],
          "mesh3d": [
           {
            "colorbar": {
             "outlinewidth": 0,
             "ticks": ""
            },
            "type": "mesh3d"
           }
          ],
          "parcoords": [
           {
            "line": {
             "colorbar": {
              "outlinewidth": 0,
              "ticks": ""
             }
            },
            "type": "parcoords"
           }
          ],
          "pie": [
           {
            "automargin": true,
            "type": "pie"
           }
          ],
          "scatter": [
           {
            "fillpattern": {
             "fillmode": "overlay",
             "size": 10,
             "solidity": 0.2
            },
            "type": "scatter"
           }
          ],
          "scatter3d": [
           {
            "line": {
             "colorbar": {
              "outlinewidth": 0,
              "ticks": ""
             }
            },
            "marker": {
             "colorbar": {
              "outlinewidth": 0,
              "ticks": ""
             }
            },
            "type": "scatter3d"
           }
          ],
          "scattercarpet": [
           {
            "marker": {
             "colorbar": {
              "outlinewidth": 0,
              "ticks": ""
             }
            },
            "type": "scattercarpet"
           }
          ],
          "scattergeo": [
           {
            "marker": {
             "colorbar": {
              "outlinewidth": 0,
              "ticks": ""
             }
            },
            "type": "scattergeo"
           }
          ],
          "scattergl": [
           {
            "marker": {
             "colorbar": {
              "outlinewidth": 0,
              "ticks": ""
             }
            },
            "type": "scattergl"
           }
          ],
          "scattermapbox": [
           {
            "marker": {
             "colorbar": {
              "outlinewidth": 0,
              "ticks": ""
             }
            },
            "type": "scattermapbox"
           }
          ],
          "scatterpolar": [
           {
            "marker": {
             "colorbar": {
              "outlinewidth": 0,
              "ticks": ""
             }
            },
            "type": "scatterpolar"
           }
          ],
          "scatterpolargl": [
           {
            "marker": {
             "colorbar": {
              "outlinewidth": 0,
              "ticks": ""
             }
            },
            "type": "scatterpolargl"
           }
          ],
          "scatterternary": [
           {
            "marker": {
             "colorbar": {
              "outlinewidth": 0,
              "ticks": ""
             }
            },
            "type": "scatterternary"
           }
          ],
          "surface": [
           {
            "colorbar": {
             "outlinewidth": 0,
             "ticks": ""
            },
            "colorscale": [
             [
              0,
              "#0d0887"
             ],
             [
              0.1111111111111111,
              "#46039f"
             ],
             [
              0.2222222222222222,
              "#7201a8"
             ],
             [
              0.3333333333333333,
              "#9c179e"
             ],
             [
              0.4444444444444444,
              "#bd3786"
             ],
             [
              0.5555555555555556,
              "#d8576b"
             ],
             [
              0.6666666666666666,
              "#ed7953"
             ],
             [
              0.7777777777777778,
              "#fb9f3a"
             ],
             [
              0.8888888888888888,
              "#fdca26"
             ],
             [
              1,
              "#f0f921"
             ]
            ],
            "type": "surface"
           }
          ],
          "table": [
           {
            "cells": {
             "fill": {
              "color": "#EBF0F8"
             },
             "line": {
              "color": "white"
             }
            },
            "header": {
             "fill": {
              "color": "#C8D4E3"
             },
             "line": {
              "color": "white"
             }
            },
            "type": "table"
           }
          ]
         },
         "layout": {
          "annotationdefaults": {
           "arrowcolor": "#2a3f5f",
           "arrowhead": 0,
           "arrowwidth": 1
          },
          "autotypenumbers": "strict",
          "coloraxis": {
           "colorbar": {
            "outlinewidth": 0,
            "ticks": ""
           }
          },
          "colorscale": {
           "diverging": [
            [
             0,
             "#8e0152"
            ],
            [
             0.1,
             "#c51b7d"
            ],
            [
             0.2,
             "#de77ae"
            ],
            [
             0.3,
             "#f1b6da"
            ],
            [
             0.4,
             "#fde0ef"
            ],
            [
             0.5,
             "#f7f7f7"
            ],
            [
             0.6,
             "#e6f5d0"
            ],
            [
             0.7,
             "#b8e186"
            ],
            [
             0.8,
             "#7fbc41"
            ],
            [
             0.9,
             "#4d9221"
            ],
            [
             1,
             "#276419"
            ]
           ],
           "sequential": [
            [
             0,
             "#0d0887"
            ],
            [
             0.1111111111111111,
             "#46039f"
            ],
            [
             0.2222222222222222,
             "#7201a8"
            ],
            [
             0.3333333333333333,
             "#9c179e"
            ],
            [
             0.4444444444444444,
             "#bd3786"
            ],
            [
             0.5555555555555556,
             "#d8576b"
            ],
            [
             0.6666666666666666,
             "#ed7953"
            ],
            [
             0.7777777777777778,
             "#fb9f3a"
            ],
            [
             0.8888888888888888,
             "#fdca26"
            ],
            [
             1,
             "#f0f921"
            ]
           ],
           "sequentialminus": [
            [
             0,
             "#0d0887"
            ],
            [
             0.1111111111111111,
             "#46039f"
            ],
            [
             0.2222222222222222,
             "#7201a8"
            ],
            [
             0.3333333333333333,
             "#9c179e"
            ],
            [
             0.4444444444444444,
             "#bd3786"
            ],
            [
             0.5555555555555556,
             "#d8576b"
            ],
            [
             0.6666666666666666,
             "#ed7953"
            ],
            [
             0.7777777777777778,
             "#fb9f3a"
            ],
            [
             0.8888888888888888,
             "#fdca26"
            ],
            [
             1,
             "#f0f921"
            ]
           ]
          },
          "colorway": [
           "#636efa",
           "#EF553B",
           "#00cc96",
           "#ab63fa",
           "#FFA15A",
           "#19d3f3",
           "#FF6692",
           "#B6E880",
           "#FF97FF",
           "#FECB52"
          ],
          "font": {
           "color": "#2a3f5f"
          },
          "geo": {
           "bgcolor": "white",
           "lakecolor": "white",
           "landcolor": "#E5ECF6",
           "showlakes": true,
           "showland": true,
           "subunitcolor": "white"
          },
          "hoverlabel": {
           "align": "left"
          },
          "hovermode": "closest",
          "mapbox": {
           "style": "light"
          },
          "paper_bgcolor": "white",
          "plot_bgcolor": "#E5ECF6",
          "polar": {
           "angularaxis": {
            "gridcolor": "white",
            "linecolor": "white",
            "ticks": ""
           },
           "bgcolor": "#E5ECF6",
           "radialaxis": {
            "gridcolor": "white",
            "linecolor": "white",
            "ticks": ""
           }
          },
          "scene": {
           "xaxis": {
            "backgroundcolor": "#E5ECF6",
            "gridcolor": "white",
            "gridwidth": 2,
            "linecolor": "white",
            "showbackground": true,
            "ticks": "",
            "zerolinecolor": "white"
           },
           "yaxis": {
            "backgroundcolor": "#E5ECF6",
            "gridcolor": "white",
            "gridwidth": 2,
            "linecolor": "white",
            "showbackground": true,
            "ticks": "",
            "zerolinecolor": "white"
           },
           "zaxis": {
            "backgroundcolor": "#E5ECF6",
            "gridcolor": "white",
            "gridwidth": 2,
            "linecolor": "white",
            "showbackground": true,
            "ticks": "",
            "zerolinecolor": "white"
           }
          },
          "shapedefaults": {
           "line": {
            "color": "#2a3f5f"
           }
          },
          "ternary": {
           "aaxis": {
            "gridcolor": "white",
            "linecolor": "white",
            "ticks": ""
           },
           "baxis": {
            "gridcolor": "white",
            "linecolor": "white",
            "ticks": ""
           },
           "bgcolor": "#E5ECF6",
           "caxis": {
            "gridcolor": "white",
            "linecolor": "white",
            "ticks": ""
           }
          },
          "title": {
           "x": 0.05
          },
          "xaxis": {
           "automargin": true,
           "gridcolor": "white",
           "linecolor": "white",
           "ticks": "",
           "title": {
            "standoff": 15
           },
           "zerolinecolor": "white",
           "zerolinewidth": 2
          },
          "yaxis": {
           "automargin": true,
           "gridcolor": "white",
           "linecolor": "white",
           "ticks": "",
           "title": {
            "standoff": 15
           },
           "zerolinecolor": "white",
           "zerolinewidth": 2
          }
         }
        },
        "title": {
         "text": "Sales Amount by Store Over Time"
        },
        "updatemenus": [
         {
          "buttons": [
           {
            "args": [
             null,
             {
              "frame": {
               "duration": 500,
               "redraw": true
              },
              "fromcurrent": true,
              "mode": "immediate",
              "transition": {
               "duration": 500,
               "easing": "linear"
              }
             }
            ],
            "label": "&#9654;",
            "method": "animate"
           },
           {
            "args": [
             [
              null
             ],
             {
              "frame": {
               "duration": 0,
               "redraw": true
              },
              "fromcurrent": true,
              "mode": "immediate",
              "transition": {
               "duration": 0,
               "easing": "linear"
              }
             }
            ],
            "label": "&#9724;",
            "method": "animate"
           }
          ],
          "direction": "left",
          "pad": {
           "r": 10,
           "t": 70
          },
          "showactive": false,
          "type": "buttons",
          "x": 0.1,
          "xanchor": "right",
          "y": 0,
          "yanchor": "top"
         }
        ],
        "xaxis": {
         "anchor": "y",
         "domain": [
          0,
          1
         ],
         "title": {
          "text": "Sales Amount ($)"
         }
        },
        "yaxis": {
         "anchor": "x",
         "categoryarray": [
          "S001",
          "S004",
          "S003",
          "S002"
         ],
         "categoryorder": "total ascending",
         "domain": [
          0,
          1
         ],
         "title": {
          "text": "Store ID"
         }
        }
       }
      }
     },
     "metadata": {},
     "output_type": "display_data"
    }
   ],
   "source": [
    "# Aggregate daily sales by Date and Store ID\n",
    "daily_sales = data.groupby(['Date', 'Store ID']).agg({'Sales Amount': 'sum'}).reset_index()\n",
    "\n",
    "# Create an animated bar chart\n",
    "fig = px.bar(\n",
    "    daily_sales,\n",
    "    x='Sales Amount',\n",
    "    y='Store ID',\n",
    "    color='Store ID',\n",
    "    animation_frame=daily_sales['Date'].dt.strftime('%Y-%m-%d'),  # Format date for better animation\n",
    "    title=\"Sales Amount by Store Over Time\",\n",
    "    labels={'Sales Amount': 'Total Sales ($)', 'Store ID': 'Store'},\n",
    "    orientation='h'\n",
    ")\n",
    "\n",
    "# Customize layout\n",
    "fig.update_layout(\n",
    "    xaxis_title=\"Sales Amount ($)\",\n",
    "    yaxis_title=\"Store ID\",\n",
    "    yaxis={'categoryorder': 'total ascending'},\n",
    "    hovermode=\"x\"\n",
    ")\n",
    "\n",
    "fig.show()"
   ]
  },
  {
   "cell_type": "code",
   "execution_count": null,
   "metadata": {},
   "outputs": [],
   "source": []
  }
 ],
 "metadata": {
  "kernelspec": {
   "display_name": "Python 3",
   "language": "python",
   "name": "python3"
  },
  "language_info": {
   "codemirror_mode": {
    "name": "ipython",
    "version": 3
   },
   "file_extension": ".py",
   "mimetype": "text/x-python",
   "name": "python",
   "nbconvert_exporter": "python",
   "pygments_lexer": "ipython3",
   "version": "3.12.4"
  }
 },
 "nbformat": 4,
 "nbformat_minor": 2
}
